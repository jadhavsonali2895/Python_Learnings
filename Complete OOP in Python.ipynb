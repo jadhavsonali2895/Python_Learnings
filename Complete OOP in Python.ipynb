{
 "cells": [
  {
   "cell_type": "code",
   "execution_count": 3,
   "id": "4cc6fd97",
   "metadata": {},
   "outputs": [],
   "source": [
    "#OOp = is called object oriented programming\n",
    "# To map with real world scenarios we started using objects in code.This is called OOP.\n",
    "# Due the \"function\" programming language - redundance of code is decreased and reusibiliyt is increased. \n",
    "# object is everything and it is also called as instance"
   ]
  },
  {
   "cell_type": "code",
   "execution_count": 4,
   "id": "926a1363",
   "metadata": {},
   "outputs": [
    {
     "name": "stdout",
     "output_type": "stream",
     "text": [
      "blue\n",
      "mercedes\n"
     ]
    }
   ],
   "source": [
    "# class created\n",
    "class Car:\n",
    "    color = \"blue\"\n",
    "    brand= \"mercedes\"\n",
    "    \n",
    "# oobject is created\n",
    "car1 = Car()\n",
    "print(car1.color)\n",
    "print(car1.brand)"
   ]
  },
  {
   "cell_type": "code",
   "execution_count": 18,
   "id": "0c970eb0",
   "metadata": {},
   "outputs": [],
   "source": [
    "# Constructor\n",
    "\n",
    "#creating a class\n",
    "\n",
    "class Student:\n",
    "    name= \"karan\"\n",
    "    def __init__(self,fullname):\n",
    "        \n",
    "        self.name = fullname\n",
    "        \n",
    "s1=Student(\"karan\")\n",
    "\n"
   ]
  },
  {
   "cell_type": "code",
   "execution_count": 19,
   "id": "26379c45",
   "metadata": {},
   "outputs": [
    {
     "name": "stdout",
     "output_type": "stream",
     "text": [
      "<__main__.Student object at 0x000002484E9A2F10>\n",
      "adding new names in database\n"
     ]
    }
   ],
   "source": [
    "# Constructor\n",
    "\n",
    "#creating a class\n",
    "\n",
    "class Student:\n",
    "    name = \"karan\"\n",
    "    def __init__(self):\n",
    "        print(self)\n",
    "        print(\"adding new names in database\")\n",
    "\n",
    "        \n",
    "s1 = Student()\n",
    "\n",
    "# self parameter is a reference to the current instance of the class and it is used to access the variables which are belongs to the class\n",
    "       "
   ]
  },
  {
   "cell_type": "code",
   "execution_count": 1,
   "id": "11be6b97",
   "metadata": {},
   "outputs": [
    {
     "name": "stdout",
     "output_type": "stream",
     "text": [
      "Enter marks for 5 subjects:\n",
      "Enter subject 1: 30\n",
      "Enter marks: 30\n",
      "Enter subject 2: 45\n",
      "Enter marks: 50\n",
      "Enter subject 3: 60\n",
      "Enter marks: 80\n",
      "Enter subject 4: 90\n",
      "Enter marks: 100\n",
      "Enter subject 5: 35\n",
      "Enter marks: 65\n",
      "Total marks: 325.0/500\n",
      "Percentage: 65.0%\n",
      "Congratulations! You passed.\n"
     ]
    }
   ],
   "source": [
    "#inheritance\n",
    "\n",
    "class Subjects:\n",
    "    def __init__(self):\n",
    "        self.subjects = {}\n",
    "\n",
    "    def enter_subjects_marks(self):\n",
    "        print(\"Enter marks for 5 subjects:\")\n",
    "        for i in range(5):\n",
    "            subject = input(f\"Enter subject {i + 1}: \")\n",
    "            marks = float(input(\"Enter marks: \"))\n",
    "            self.subjects[subject] = marks\n",
    "\n",
    "\n",
    "class TotalMarks(Subjects):\n",
    "    def calculate_total_marks(self):\n",
    "        self.total_marks = sum(self.subjects.values())\n",
    "        print(f\"Total marks: {self.total_marks}/500\")\n",
    "\n",
    "\n",
    "class Percentage(TotalMarks):\n",
    "    def calculate_percentage(self):\n",
    "        self.percentage = (self.total_marks / 500) * 100\n",
    "        print(f\"Percentage: {self.percentage}%\")\n",
    "    \n",
    "    def pass_fail(self):\n",
    "        if self.percentage >= 60:\n",
    "            print(\"Congratulations! You passed.\")\n",
    "        else:\n",
    "            print(\"Sorry! You failed.\")\n",
    "\n",
    "\n",
    "# Main program\n",
    "student = Percentage()\n",
    "student.enter_subjects_marks()\n",
    "student.calculate_total_marks()\n",
    "student.calculate_percentage()\n",
    "student.pass_fail()\n",
    "\n",
    "\n"
   ]
  },
  {
   "cell_type": "code",
   "execution_count": 13,
   "id": "8da5187b",
   "metadata": {},
   "outputs": [
    {
     "name": "stdout",
     "output_type": "stream",
     "text": [
      "Enter marks for 5 subjects:\n",
      "Enter subject 1: maths\n",
      "Enter marks: 80\n",
      "Enter subject 2: science\n",
      "Enter marks: 50\n",
      "Enter subject 3: marathi\n",
      "Enter marks: 90\n",
      "Enter subject 4: hindi\n",
      "Enter marks: 100\n",
      "Enter subject 5: IT\n",
      "Enter marks: 35\n",
      "Total marks: 355.0/500\n",
      "Percentage: 71.0%\n",
      "Congratulations! You passed.\n"
     ]
    }
   ],
   "source": [
    "# Base class\n",
    "class Subjects:\n",
    "    def __init__(self):\n",
    "        # Initialize an empty dictionary to store subjects and their marks\n",
    "        self.subjects = {}\n",
    "\n",
    "    def enter_subjects_marks(self):\n",
    "        print(\"Enter marks for 5 subjects:\")\n",
    "        # Loop through 5 subjects\n",
    "        for i in range(5):\n",
    "            # Prompt user to input subject name and marks\n",
    "            subject = input(f\"Enter subject {i + 1}: \")\n",
    "            marks = float(input(\"Enter marks: \"))\n",
    "            # Store subject and marks in the dictionary\n",
    "            self.subjects[subject] = marks\n",
    "\n",
    "\n",
    "# Subclass inheriting from Subjects\n",
    "class TotalMarks(Subjects):\n",
    "    def calculate_total_marks(self):\n",
    "        # Calculate total marks by summing up marks from the dictionary\n",
    "        self.total_marks = sum(self.subjects.values())\n",
    "        # Print total marks out of 500\n",
    "        print(f\"Total marks: {self.total_marks}/500\")\n",
    "\n",
    "\n",
    "# Subclass inheriting from TotalMarks\n",
    "class Percentage(TotalMarks):\n",
    "    def calculate_percentage(self):\n",
    "        # Calculate percentage based on total marks out of 500\n",
    "        self.percentage = (self.total_marks / 500) * 100\n",
    "        # Print the percentage\n",
    "        print(f\"Percentage: {self.percentage}%\")\n",
    "    \n",
    "    def pass_fail(self):\n",
    "        # Check if percentage is greater than or equal to 60\n",
    "        if self.percentage >= 60:\n",
    "            print(\"Congratulations! You passed.\")\n",
    "        else:\n",
    "            print(\"Sorry! You failed.\")\n",
    "\n",
    "\n",
    "# Main program\n",
    "# Create an instance of the Percentage class\n",
    "student = Percentage()\n",
    "# Call method to input marks for subjects\n",
    "student.enter_subjects_marks()\n",
    "# Call method to calculate total marks\n",
    "student.calculate_total_marks()\n",
    "# Call method to calculate percentage\n",
    "student.calculate_percentage()\n",
    "# Call method to determine pass/fail status\n",
    "student.pass_fail()\n"
   ]
  },
  {
   "cell_type": "code",
   "execution_count": 12,
   "id": "e7a3201c",
   "metadata": {},
   "outputs": [
    {
     "name": "stdout",
     "output_type": "stream",
     "text": [
      "Enter marks of Maths: 60\n",
      "Enter marks of History: 80\n",
      "Enter marks of Science: 90\n",
      "Enter marks of IT: 100\n",
      "Enter marks of Language: 50\n",
      "Total marks =  380\n",
      "Percentage =  76.0\n",
      "Congratulations! You Passed.\n"
     ]
    }
   ],
   "source": [
    "class SubjectsMarks:\n",
    "    def __init__(self):\n",
    "        self.sub1 = int(input(\"Enter marks of Maths: \"))\n",
    "        self.sub2 = int(input(\"Enter marks of History: \"))\n",
    "        self.sub3 = int(input(\"Enter marks of Science: \"))\n",
    "        self.sub4 = int(input(\"Enter marks of IT: \"))\n",
    "        self.sub5 = int(input(\"Enter marks of Language: \"))\n",
    "\n",
    "\n",
    "class TotalMarks(SubjectsMarks):\n",
    "    def __init__(self):\n",
    "        super().__init__()\n",
    "        self.total = sum([self.sub1, self.sub2, self.sub3, self.sub4, self.sub5])\n",
    "        print(\"Total marks = \", self.total)\n",
    "\n",
    "\n",
    "class TotalPercentages(TotalMarks):\n",
    "    def __init__(self):\n",
    "        super().__init__()\n",
    "        self.percentage = (self.total / 500 * 100)\n",
    "        print(\"Percentage = \", self.percentage)\n",
    "\n",
    "\n",
    "class PassFail(TotalPercentages):\n",
    "    def __init__(self):\n",
    "        super().__init__()\n",
    "        self.result = self.percentage\n",
    "        if self.result >= 60:\n",
    "            print(\"Congratulations! You Passed.\")\n",
    "        else:\n",
    "            print(\"Sorry! You Failed.\")\n",
    "\n",
    "\n",
    "# Main program\n",
    "student = PassFail()\n",
    "\n"
   ]
  },
  {
   "cell_type": "markdown",
   "id": "081dfe49",
   "metadata": {},
   "source": [
    "# constructor\n",
    "\n",
    "\n"
   ]
  },
  {
   "cell_type": "code",
   "execution_count": 16,
   "id": "0ff679a0",
   "metadata": {},
   "outputs": [
    {
     "name": "stdout",
     "output_type": "stream",
     "text": [
      "The no. of tyres in object Car is 8\n",
      "The no. of windows in object Car is 10\n",
      "The car type is petrol engine\n"
     ]
    }
   ],
   "source": [
    "class Car:\n",
    "    def __init__(self,windows,tyres,engine):\n",
    "        self.windows = windows\n",
    "        self.tyres = tyres\n",
    "        self.engine = engine\n",
    "        \n",
    "        \n",
    "    def self_driving(self):\n",
    "        print(\"The car type is {} engine\".format(self.engine))\n",
    "        \n",
    "\n",
    "\n",
    "car1 = Car(10,8,\"petrol\")\n",
    "print(\"The no. of tyres in object Car is {}\".format(car1.tyres))\n",
    "print(\"The no. of windows in object Car is {}\".format(car1.windows))\n",
    "car1.self_driving()\n",
    "\n",
    "\n",
    "\n",
    "        "
   ]
  },
  {
   "cell_type": "markdown",
   "id": "d6ea6251-8e38-40c2-a6b4-0a6c8be809e3",
   "metadata": {},
   "source": [
    "#### .... is still going on ....."
   ]
  }
 ],
 "metadata": {
  "kernelspec": {
   "display_name": "Python 3 (ipykernel)",
   "language": "python",
   "name": "python3"
  },
  "language_info": {
   "codemirror_mode": {
    "name": "ipython",
    "version": 3
   },
   "file_extension": ".py",
   "mimetype": "text/x-python",
   "name": "python",
   "nbconvert_exporter": "python",
   "pygments_lexer": "ipython3",
   "version": "3.11.7"
  }
 },
 "nbformat": 4,
 "nbformat_minor": 5
}
