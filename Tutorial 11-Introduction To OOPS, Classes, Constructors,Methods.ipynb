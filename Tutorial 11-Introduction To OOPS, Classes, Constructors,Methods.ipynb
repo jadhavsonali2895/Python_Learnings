{
 "cells": [
  {
   "cell_type": "code",
   "execution_count": null,
   "id": "3e6b7081",
   "metadata": {},
   "outputs": [],
   "source": [
    "# Classes\n",
    "# constructors, attributes,methods\n",
    "\n",
    "# Classes--Real world Entity or object\n",
    "#attributes--properties of the class\n",
    "#methods--actions of the class"
   ]
  },
  {
   "cell_type": "code",
   "execution_count": 1,
   "id": "7b1706a6",
   "metadata": {},
   "outputs": [
    {
     "name": "stdout",
     "output_type": "stream",
     "text": [
      "<__main__.car object at 0x0000017205AD3F10>\n"
     ]
    }
   ],
   "source": [
    "class car():\n",
    "    pass\n",
    "car1 = car()\n",
    "car2 = car()\n",
    "\n",
    "print(car1)"
   ]
  },
  {
   "cell_type": "code",
   "execution_count": 2,
   "id": "9926b8b8",
   "metadata": {},
   "outputs": [
    {
     "name": "stdout",
     "output_type": "stream",
     "text": [
      "The no of tyres in object car1 is 4\n",
      "The no of windows in object car1 is 4\n",
      "The car type is electric engine \n"
     ]
    }
   ],
   "source": [
    "class Car:\n",
    "    # constructor\n",
    "    def __init__(self,windows,tyres,engine):\n",
    "        self.windows=windows\n",
    "        self.tyres=tyres\n",
    "        self.engine=engine\n",
    "\n",
    "    def self_driving(self,engine):\n",
    "        print(\"The car type is {} engine \".format(engine))\n",
    "\n",
    "\n",
    "car1=Car(4,4,\"petrol\")\n",
    "print(\"The no of tyres in object car1 is {}\".format(car1.tyres))\n",
    "print(\"The no of windows in object car1 is {}\".format(car1.windows))\n",
    "car1.self_driving(\"electric\")"
   ]
  },
  {
   "cell_type": "code",
   "execution_count": null,
   "id": "b4c77604",
   "metadata": {},
   "outputs": [],
   "source": []
  }
 ],
 "metadata": {
  "kernelspec": {
   "display_name": "Python 3 (ipykernel)",
   "language": "python",
   "name": "python3"
  },
  "language_info": {
   "codemirror_mode": {
    "name": "ipython",
    "version": 3
   },
   "file_extension": ".py",
   "mimetype": "text/x-python",
   "name": "python",
   "nbconvert_exporter": "python",
   "pygments_lexer": "ipython3",
   "version": "3.9.13"
  }
 },
 "nbformat": 4,
 "nbformat_minor": 5
}
