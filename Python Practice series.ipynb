{
 "cells": [
  {
   "cell_type": "code",
   "execution_count": 1,
   "id": "91b7a854",
   "metadata": {},
   "outputs": [],
   "source": [
    "#to find the ASCII value of a character & vice versa"
   ]
  },
  {
   "cell_type": "code",
   "execution_count": 8,
   "id": "94b3b7e3",
   "metadata": {},
   "outputs": [
    {
     "name": "stdout",
     "output_type": "stream",
     "text": [
      "Enter the character  s\n",
      "115\n"
     ]
    }
   ],
   "source": [
    "character = input(\"Enter the character  \")\n",
    "a = ord(character)\n",
    "print(a)\n"
   ]
  },
  {
   "cell_type": "code",
   "execution_count": 9,
   "id": "2c612528",
   "metadata": {},
   "outputs": [
    {
     "name": "stdout",
     "output_type": "stream",
     "text": [
      "enter the ascii number  115\n",
      "s\n"
     ]
    }
   ],
   "source": [
    "# vice versa of above program\n",
    "\n",
    "ascii = int(input(\"enter the ascii number  \"))\n",
    "character = chr(ascii)\n",
    "print(character)\n",
    "\n"
   ]
  },
  {
   "cell_type": "raw",
   "id": "dd56aa18",
   "metadata": {},
   "source": [
    "How to Convert \"Decimal to Binary\" and \"Octal to Hexadecimal\""
   ]
  },
  {
   "cell_type": "code",
   "execution_count": 11,
   "id": "774041c9",
   "metadata": {},
   "outputs": [
    {
     "name": "stdout",
     "output_type": "stream",
     "text": [
      "enter the decimal number  10\n",
      "0b1010  this is binary\n",
      "0o12  this is octal\n",
      "0xa  this is hexadecimal\n"
     ]
    }
   ],
   "source": [
    "number = int(input(\"enter the decimal number  \"))\n",
    "print(bin(number),\" this is binary\")\n",
    "print(oct(number),\" this is octal\")\n",
    "print(hex(number),\" this is hexadecimal\")"
   ]
  },
  {
   "cell_type": "markdown",
   "id": "4e1211a4",
   "metadata": {},
   "source": [
    "calculator "
   ]
  },
  {
   "cell_type": "code",
   "execution_count": 15,
   "id": "e9c842a2",
   "metadata": {},
   "outputs": [
    {
     "name": "stdout",
     "output_type": "stream",
     "text": [
      "enter the number 1: 500000\n",
      "enter the number 2: 24356\n",
      "enter the operator *\n",
      "this is multiplication  12178000000\n"
     ]
    }
   ],
   "source": [
    "num1 = int(input(\"enter the number 1: \"))\n",
    "num2 = int(input(\"enter the number 2: \"))\n",
    "operator = input(\"enter the operator \")\n",
    "if operator == \"+\":\n",
    "    print(\"this is addition \", num1+num2)\n",
    "elif operator == \"-\":\n",
    "    print(\"this is substraction \",num1-num2 )\n",
    "elif operator == \"*\":\n",
    "    print(\"this is multiplication \", num1*num2)\n",
    "elif operator == \"/\":\n",
    "    print(\"this is division \", num1/num2 )\n",
    "elif operator == \"%\":\n",
    "    print(\"this ismodulos \", num1%num2)\n",
    "elif operator == \"//\":\n",
    "    print(\"this is floor division \", num1//num2)\n",
    "elif operator == \"**\":\n",
    "    print(\"this is square \", num1 ** num2)\n",
    "else:\n",
    "    print(\"this is not valid operator\")\n",
    "    \n",
    "    \n",
    "    "
   ]
  },
  {
   "cell_type": "markdown",
   "id": "39e5a249",
   "metadata": {},
   "source": [
    "How to Find the Length of String in Python Program"
   ]
  },
  {
   "cell_type": "code",
   "execution_count": 16,
   "id": "cb8a666e",
   "metadata": {},
   "outputs": [
    {
     "name": "stdout",
     "output_type": "stream",
     "text": [
      "enter the string :- sonal\n",
      "lenght of the string is  5\n"
     ]
    }
   ],
   "source": [
    "string = input(\"enter the string :- \")\n",
    "lenght = (len(string))\n",
    "print(\"lenght of the string is \", str(lenght))"
   ]
  },
  {
   "cell_type": "raw",
   "id": "eb45d85b",
   "metadata": {},
   "source": [
    "How to Find the Length of String in Python Program using loop"
   ]
  },
  {
   "cell_type": "code",
   "execution_count": 19,
   "id": "4a198ef9",
   "metadata": {},
   "outputs": [
    {
     "name": "stdout",
     "output_type": "stream",
     "text": [
      "enter the string :- sonalishrirangjadhav\n",
      "20\n"
     ]
    }
   ],
   "source": [
    "string = input(\"enter the string :- \")\n",
    "count = 0\n",
    "for i in string:\n",
    "    \n",
    "    count = count+1\n",
    "print(count)\n",
    "    "
   ]
  },
  {
   "cell_type": "markdown",
   "id": "88a97895",
   "metadata": {},
   "source": [
    "Find Prime or Composite Number in Python Program"
   ]
  },
  {
   "cell_type": "code",
   "execution_count": 21,
   "id": "68d51a96",
   "metadata": {},
   "outputs": [
    {
     "name": "stdout",
     "output_type": "stream",
     "text": [
      "Enter the number: 5\n",
      "It is a prime number\n"
     ]
    }
   ],
   "source": [
    "# prime numer = 2,3,5,7,11,13, -- only 2 factors \n",
    "#composite number = 4,6,8,9,10,12,-- multiple factors \n",
    "\n",
    "number = int(input(\"Enter the number: \"))\n",
    "count = 0\n",
    "i = 1\n",
    "\n",
    "while i <= number:\n",
    "    if number % i == 0:\n",
    "        count += 1\n",
    "    i += 1\n",
    "\n",
    "if count == 2:\n",
    "    print(\"It is a prime number\")\n",
    "elif count > 2:\n",
    "    print(\"It is a composite number\")\n",
    "else:\n",
    "    print(\"It is neither prime nor composite\")\n",
    "\n",
    "    "
   ]
  },
  {
   "cell_type": "code",
   "execution_count": 25,
   "id": "51b4a664",
   "metadata": {},
   "outputs": [
    {
     "data": {
      "text/plain": [
       "([], (), {}, set())"
      ]
     },
     "execution_count": 25,
     "metadata": {},
     "output_type": "execute_result"
    }
   ],
   "source": [
    "list(),tuple(),dict(),set()"
   ]
  },
  {
   "cell_type": "code",
   "execution_count": null,
   "id": "e35fc564",
   "metadata": {},
   "outputs": [],
   "source": [
    "lst = [1,2,3,4,5,6,7,8,9,10]\n",
    "count = 0\n",
    "for i in lst:\n",
    "    "
   ]
  }
 ],
 "metadata": {
  "kernelspec": {
   "display_name": "Python 3 (ipykernel)",
   "language": "python",
   "name": "python3"
  },
  "language_info": {
   "codemirror_mode": {
    "name": "ipython",
    "version": 3
   },
   "file_extension": ".py",
   "mimetype": "text/x-python",
   "name": "python",
   "nbconvert_exporter": "python",
   "pygments_lexer": "ipython3",
   "version": "3.9.13"
  }
 },
 "nbformat": 4,
 "nbformat_minor": 5
}
