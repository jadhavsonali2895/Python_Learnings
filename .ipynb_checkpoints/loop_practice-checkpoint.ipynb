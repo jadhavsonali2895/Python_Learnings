{
 "cells": [
  {
   "cell_type": "code",
   "execution_count": 1,
   "id": "ad4860b8",
   "metadata": {},
   "outputs": [],
   "source": [
    "# product of digits of given number\n",
    "# write a program to find sum of even digits and product or odd digits\n",
    "# sum of square of given digits \n",
    "# sum of cube of given digits\n",
    "# Check the number is armstrong number\n",
    "# reverse the given number \n",
    "# check that given number is palindrom or not\n",
    "# print factors if given number\n",
    "# factorials\n",
    "# write a program to count total number of factors of a given nnumber \n"
   ]
  },
  {
   "cell_type": "code",
   "execution_count": 2,
   "id": "bca143e3",
   "metadata": {},
   "outputs": [
    {
     "name": "stdout",
     "output_type": "stream",
     "text": [
      "1\n",
      "2\n",
      "3\n",
      "4\n",
      "5\n",
      "6\n",
      "7\n",
      "8\n",
      "9\n",
      "10\n",
      "1\n",
      "2\n",
      "3\n",
      "4\n",
      "5\n",
      "6\n",
      "7\n",
      "8\n",
      "9\n",
      "10\n"
     ]
    }
   ],
   "source": [
    "# write a program to print from 1 to 10\n",
    "\n",
    "for i in range (1,11):\n",
    "    print(i)\n",
    "    \n",
    "i = 1\n",
    "while i <= 10:\n",
    "    print(i)\n",
    "    i +=1\n",
    "\n"
   ]
  },
  {
   "cell_type": "code",
   "execution_count": 3,
   "id": "9ad80b85",
   "metadata": {},
   "outputs": [
    {
     "name": "stdout",
     "output_type": "stream",
     "text": [
      "enter the number2\n",
      "1\n",
      "enter the number2\n",
      "1\n",
      "2\n"
     ]
    }
   ],
   "source": [
    "# write a program to print from 1 to n\n",
    "\n",
    "n = int(input(\"enter the number\"))\n",
    "for i in range(1,n):\n",
    "    print(i)\n",
    "    \n",
    "n = int(input(\"enter the number\"))\n",
    "i = 1\n",
    "while i <= n:\n",
    "    print(i)\n",
    "    i +=1\n"
   ]
  },
  {
   "cell_type": "code",
   "execution_count": 4,
   "id": "94bac271",
   "metadata": {},
   "outputs": [
    {
     "name": "stdout",
     "output_type": "stream",
     "text": [
      "10\n",
      "9\n",
      "8\n",
      "7\n",
      "6\n",
      "5\n",
      "4\n",
      "3\n",
      "2\n",
      "1\n",
      "10\n",
      "9\n",
      "8\n",
      "7\n",
      "6\n",
      "5\n",
      "4\n",
      "3\n",
      "2\n",
      "1\n"
     ]
    }
   ],
   "source": [
    "# write a program to print from 10 to 1\n",
    "\n",
    "for i in range (10,0,-1):\n",
    "    print(i)\n",
    "\n",
    "\n",
    "i = 10\n",
    "while i >= 1:\n",
    "    print(i)\n",
    "    i=i-1\n",
    "\n",
    "\n",
    "\n"
   ]
  },
  {
   "cell_type": "code",
   "execution_count": 5,
   "id": "81268fae",
   "metadata": {},
   "outputs": [
    {
     "name": "stdout",
     "output_type": "stream",
     "text": [
      "enter number for square2\n",
      "1\n",
      "4\n",
      "enter number for square2\n",
      "1\n",
      "4\n"
     ]
    }
   ],
   "source": [
    "# write a program to make square \n",
    "number_square = int(input(\"enter number for square\"))\n",
    "for i in range (1,number_square +1) :\n",
    "    i = i*i\n",
    "    print(i)\n",
    "\n",
    "number_square_while = int(input(\"enter number for square\"))\n",
    "i = 1\n",
    "while i <= number_square_while:\n",
    "    square = i * i\n",
    "    print(square)\n",
    "    i  += 1\n",
    "\n"
   ]
  },
  {
   "cell_type": "code",
   "execution_count": 6,
   "id": "d2c14947",
   "metadata": {},
   "outputs": [
    {
     "name": "stdout",
     "output_type": "stream",
     "text": [
      "enter the number2\n",
      "cube of  1 = 1\n",
      "cube of  2 = 8\n",
      "enter the number2\n",
      "Cube of  1 = 1\n",
      "Cube of  2 = 8\n"
     ]
    }
   ],
   "source": [
    "# write a program to make cube\n",
    "\n",
    "number_cube = int(input(\"enter the number\"))\n",
    "for i in range (1,number_cube +1) :\n",
    "    cube = i* i * i\n",
    "    print(\"cube of \",i,\"=\",cube)\n",
    "    \n",
    "\n",
    "number_cube_while = int(input(\"enter the number\"))  \n",
    "x = 1\n",
    "while x <= number_cube_while:\n",
    "    cube = x*x*x\n",
    "    print(\"Cube of \",x,\"=\",cube)\n",
    "    x = x+1\n",
    "    \n",
    "\n",
    "    \n",
    "    \n"
   ]
  },
  {
   "cell_type": "code",
   "execution_count": 7,
   "id": "360af3cd",
   "metadata": {},
   "outputs": [
    {
     "name": "stdout",
     "output_type": "stream",
     "text": [
      "Sum of squares from 1 to 5 is 55\n"
     ]
    }
   ],
   "source": [
    "#sum of square\n",
    "t = 5\n",
    "sum = 0\n",
    "for i in range(1, t + 1):\n",
    "    sum += i * i\n",
    "\n",
    "print(\"Sum of squares from 1 to\", t, \"is\", sum)\n",
    "\n",
    "    \n",
    "\n"
   ]
  },
  {
   "cell_type": "code",
   "execution_count": 8,
   "id": "b895fe1f",
   "metadata": {},
   "outputs": [
    {
     "name": "stdout",
     "output_type": "stream",
     "text": [
      "enter your number2\n",
      "1\n",
      "5\n"
     ]
    }
   ],
   "source": [
    "#sum of square\n",
    "\n",
    "number = int(input(\"enter your number\"))\n",
    "i = 1\n",
    "sum1 = 0\n",
    "while i <= number:\n",
    "    square=i*i\n",
    "    sum1 = sum1+square\n",
    "    print(sum1)\n",
    "    \n",
    "    i += 1\n",
    "    \n",
    "    \n",
    "\n"
   ]
  },
  {
   "cell_type": "code",
   "execution_count": 9,
   "id": "bc4a3ae9",
   "metadata": {},
   "outputs": [
    {
     "name": "stdout",
     "output_type": "stream",
     "text": [
      "enter the number2\n",
      "9\n"
     ]
    }
   ],
   "source": [
    "# write a program to make sum of cube\n",
    "cube = int(input(\"enter the number\"))\n",
    "sum = 0\n",
    "for i in range (1, cube +1):\n",
    "    sum = sum+ i * i * i\n",
    "print(sum)\n"
   ]
  },
  {
   "cell_type": "code",
   "execution_count": 10,
   "id": "11485098",
   "metadata": {},
   "outputs": [
    {
     "name": "stdout",
     "output_type": "stream",
     "text": [
      "enter the numebr2\n",
      "odd numbers is 1\n",
      "even number is  2\n"
     ]
    }
   ],
   "source": [
    "# write a program to get odd and even\n",
    "number = int(input(\"enter the numebr\"))\n",
    "i = 1\n",
    "while i <= number:\n",
    "    if i % 2 == 0:\n",
    "        print(\"even number is \",i)\n",
    "    else:\n",
    "        print(\"odd numbers is\",i)\n",
    "        \n",
    "        \n",
    "    i = i+1"
   ]
  },
  {
   "cell_type": "code",
   "execution_count": 11,
   "id": "15b35e2c",
   "metadata": {},
   "outputs": [
    {
     "name": "stdout",
     "output_type": "stream",
     "text": [
      "this is the odd number 1\n",
      "this is the even number 2\n",
      "this is the odd number 3\n",
      "this is the even number 4\n",
      "this is the odd number 5\n",
      "this is the even number 6\n",
      "this is the odd number 7\n",
      "this is the even number 8\n",
      "this is the odd number 9\n",
      "this is the even number 10\n"
     ]
    }
   ],
   "source": [
    "# write a program to get odd and even\n",
    "\n",
    "for i in range (1,11):\n",
    "    if i%2 == 0:\n",
    "        print(\"this is the even number\",i)\n",
    "    else:\n",
    "        print(\"this is the odd number\",i)\n",
    "\n"
   ]
  },
  {
   "cell_type": "code",
   "execution_count": 12,
   "id": "5f538b7e",
   "metadata": {},
   "outputs": [
    {
     "name": "stdout",
     "output_type": "stream",
     "text": [
      "Enter the number: 2\n",
      "Sum of even numbers: 2\n",
      "Product of odd numbers: 1\n"
     ]
    }
   ],
   "source": [
    "# sum of even and product or odd\n",
    "\n",
    "number = int(input(\"Enter the number: \"))\n",
    "even_sum = 0\n",
    "odd_product = 1\n",
    "\n",
    "for i in range(1, number + 1):\n",
    "    if i % 2 == 0:\n",
    "        even_sum += i\n",
    "    else:\n",
    "        odd_product *= i\n",
    "\n",
    "print(\"Sum of even numbers:\", even_sum)\n",
    "print(\"Product of odd numbers:\", odd_product)   \n",
    "\n",
    "\n"
   ]
  },
  {
   "cell_type": "code",
   "execution_count": 13,
   "id": "39e3b325",
   "metadata": {},
   "outputs": [
    {
     "name": "stdout",
     "output_type": "stream",
     "text": [
      "sum of even numbers =  30\n"
     ]
    }
   ],
   "source": [
    "# SUM OF EVEN NUMBERS\n",
    "\n",
    "k = 10\n",
    "i = 1\n",
    "even = 0\n",
    "\n",
    "while i <= k:\n",
    "    if i %2 == 0:\n",
    "        even = even + i\n",
    "        \n",
    "    i = i + 1\n",
    "print(\"sum of even numbers = \", even)\n",
    "    \n",
    "\n"
   ]
  },
  {
   "cell_type": "code",
   "execution_count": 14,
   "id": "ad41bd94",
   "metadata": {},
   "outputs": [
    {
     "name": "stdout",
     "output_type": "stream",
     "text": [
      "enter the range 2\n",
      "this is the sum of odd numbers 1\n"
     ]
    }
   ],
   "source": [
    "# sum of odd numbers\n",
    "k = int (input(\"enter the range \"))\n",
    "odd = 0\n",
    "for i in range (1,k +1) :\n",
    "    if i % 2 != 0:\n",
    "        odd = odd + i\n",
    "        \n",
    "print(\"this is the sum of odd numbers\", odd)\n"
   ]
  },
  {
   "cell_type": "code",
   "execution_count": 15,
   "id": "79896993",
   "metadata": {},
   "outputs": [
    {
     "name": "stdout",
     "output_type": "stream",
     "text": [
      "enter the range2\n",
      "this is the sum of even numbers 2\n",
      "this is the sum of odd numbers 1\n"
     ]
    }
   ],
   "source": [
    "# sum of odd and sum of even  - while loop\n",
    "\n",
    "number_range  = int (input(\"enter the range\"))\n",
    "odd = 0\n",
    "even = 0\n",
    "i = 1\n",
    "while i <= number_range:\n",
    "    if i % 2 == 0:\n",
    "        even = even + i\n",
    "    else:\n",
    "        odd = odd + i\n",
    "    i += 1\n",
    "        \n",
    "print(\"this is the sum of even numbers\",even)\n",
    "print(\"this is the sum of odd numbers\", odd)\n",
    "\n",
    "\n"
   ]
  },
  {
   "cell_type": "code",
   "execution_count": 16,
   "id": "b3802521",
   "metadata": {},
   "outputs": [
    {
     "name": "stdout",
     "output_type": "stream",
     "text": [
      "enter the range2\n",
      "Even Sum =  2\n",
      "Odd Sum =  1\n"
     ]
    }
   ],
   "source": [
    "# sum of odd and sum of even  - for loop\n",
    "\n",
    "range_num = int(input(\"enter the range\"))\n",
    "odd_sum = 0\n",
    "even_sum = 0\n",
    "\n",
    "for i in range (1, range_num +1):\n",
    "    if i % 2 == 0:\n",
    "        even_sum = even_sum+i\n",
    "    else:\n",
    "        odd_sum = odd_sum+i\n",
    "        \n",
    "print(\"Even Sum = \", even_sum)\n",
    "print(\"Odd Sum = \",odd_sum)\n",
    "\n",
    "\n",
    "\n",
    "\n",
    "\n",
    "\n",
    "\n",
    "\n",
    "\n",
    "\n"
   ]
  },
  {
   "cell_type": "code",
   "execution_count": 20,
   "id": "a4c46b9f",
   "metadata": {},
   "outputs": [
    {
     "name": "stdout",
     "output_type": "stream",
     "text": [
      "enter digits3659\n",
      "sum of digits =   23\n"
     ]
    }
   ],
   "source": [
    "# product of digits of given number\n",
    "\n",
    "i = int(input(\"enter digits\"))\n",
    "sum1 = 0\n",
    "\n",
    "while (i > 0):\n",
    "    sum1 = sum1 + i %10\n",
    "    i = i// 10\n",
    "print(\"sum of digits =  \",sum1)\n",
    "    \n",
    "\n",
    "\n",
    "\n",
    "\n"
   ]
  },
  {
   "cell_type": "markdown",
   "id": "1f16f326",
   "metadata": {},
   "source": [
    "# pending\n",
    "\n"
   ]
  }
 ],
 "metadata": {
  "kernelspec": {
   "display_name": "Python 3 (ipykernel)",
   "language": "python",
   "name": "python3"
  },
  "language_info": {
   "codemirror_mode": {
    "name": "ipython",
    "version": 3
   },
   "file_extension": ".py",
   "mimetype": "text/x-python",
   "name": "python",
   "nbconvert_exporter": "python",
   "pygments_lexer": "ipython3",
   "version": "3.9.13"
  }
 },
 "nbformat": 4,
 "nbformat_minor": 5
}
