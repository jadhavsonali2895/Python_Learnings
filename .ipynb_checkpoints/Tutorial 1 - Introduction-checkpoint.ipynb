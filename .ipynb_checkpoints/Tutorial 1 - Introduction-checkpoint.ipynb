{
 "cells": [
  {
   "cell_type": "code",
   "execution_count": 1,
   "id": "ff032010",
   "metadata": {},
   "outputs": [
    {
     "name": "stdout",
     "output_type": "stream",
     "text": [
      "The Zen of Python, by Tim Peters\n",
      "\n",
      "Beautiful is better than ugly.\n",
      "Explicit is better than implicit.\n",
      "Simple is better than complex.\n",
      "Complex is better than complicated.\n",
      "Flat is better than nested.\n",
      "Sparse is better than dense.\n",
      "Readability counts.\n",
      "Special cases aren't special enough to break the rules.\n",
      "Although practicality beats purity.\n",
      "Errors should never pass silently.\n",
      "Unless explicitly silenced.\n",
      "In the face of ambiguity, refuse the temptation to guess.\n",
      "There should be one-- and preferably only one --obvious way to do it.\n",
      "Although that way may not be obvious at first unless you're Dutch.\n",
      "Now is better than never.\n",
      "Although never is often better than *right* now.\n",
      "If the implementation is hard to explain, it's a bad idea.\n",
      "If the implementation is easy to explain, it may be a good idea.\n",
      "Namespaces are one honking great idea -- let's do more of those!\n"
     ]
    }
   ],
   "source": [
    "import this"
   ]
  },
  {
   "cell_type": "markdown",
   "id": "3885e533",
   "metadata": {},
   "source": [
    "# String Formatting"
   ]
  },
  {
   "cell_type": "code",
   "execution_count": 3,
   "id": "36287d4c",
   "metadata": {},
   "outputs": [
    {
     "name": "stdout",
     "output_type": "stream",
     "text": [
      "The first name is Sonali and the last name is jadhav\n"
     ]
    }
   ],
   "source": [
    "first_name = \"Sonali\"\n",
    "last_name = \"jadhav\"\n",
    "print(\"The first name is {} and the last name is {}\".format(first_name,last_name))"
   ]
  },
  {
   "cell_type": "code",
   "execution_count": 4,
   "id": "4d9561c7",
   "metadata": {},
   "outputs": [
    {
     "name": "stdout",
     "output_type": "stream",
     "text": [
      "The first name is jadhav and the last name is Sonali\n"
     ]
    }
   ],
   "source": [
    "first_name = \"Sonali\"\n",
    "last_name = \"jadhav\"\n",
    "print(\"The first name is {1} and the last name is {0}\".format(first_name,last_name))"
   ]
  },
  {
   "cell_type": "code",
   "execution_count": 6,
   "id": "d1381e5b",
   "metadata": {},
   "outputs": [
    {
     "name": "stdout",
     "output_type": "stream",
     "text": [
      "The first name is Sonali and the last name is jadhav\n"
     ]
    }
   ],
   "source": [
    "first_name = \"Sonali\"\n",
    "last_name = \"jadhav\"\n",
    "print(\"The first name is {1} and the last name is {0}\".format(last_name,first_name)) # as we have already assign 1 to first_name and 0 to last_name"
   ]
  },
  {
   "cell_type": "code",
   "execution_count": 7,
   "id": "b425e237",
   "metadata": {},
   "outputs": [
    {
     "name": "stdout",
     "output_type": "stream",
     "text": [
      "The first name is Sonali and the last name is jadhav\n"
     ]
    }
   ],
   "source": [
    "first_name = \"Sonali\"\n",
    "last_name = \"jadhav\"\n",
    "print(\"The first name is {a} and the last name is {b}\".format(a = first_name,b = last_name))"
   ]
  },
  {
   "cell_type": "code",
   "execution_count": 1,
   "id": "3988358a",
   "metadata": {},
   "outputs": [
    {
     "name": "stdout",
     "output_type": "stream",
     "text": [
      "The first name is jadhav and the last name is Sonali\n"
     ]
    }
   ],
   "source": [
    "first_name = \"Sonali\"\n",
    "last_name = \"jadhav\"\n",
    "print(\"The first name is {b} and the last name is {a}\".format(a = first_name,b = last_name))"
   ]
  },
  {
   "cell_type": "markdown",
   "id": "4dfc1e38",
   "metadata": {},
   "source": [
    "# End of First and Second tutorial here .....\n"
   ]
  }
 ],
 "metadata": {
  "kernelspec": {
   "display_name": "Python 3 (ipykernel)",
   "language": "python",
   "name": "python3"
  },
  "language_info": {
   "codemirror_mode": {
    "name": "ipython",
    "version": 3
   },
   "file_extension": ".py",
   "mimetype": "text/x-python",
   "name": "python",
   "nbconvert_exporter": "python",
   "pygments_lexer": "ipython3",
   "version": "3.9.13"
  }
 },
 "nbformat": 4,
 "nbformat_minor": 5
}
