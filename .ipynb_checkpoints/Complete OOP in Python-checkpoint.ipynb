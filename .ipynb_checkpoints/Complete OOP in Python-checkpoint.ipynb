{
 "cells": [
  {
   "cell_type": "code",
   "execution_count": null,
   "id": "4275d550",
   "metadata": {},
   "outputs": [],
   "source": [
    "#OOp = is called object oriented programming\n",
    "# To map with real world scenarios we started using objects in code.This is called OOP.\n",
    "# Due the \"function\" programming language - redundance of code is decreased and reusibiliyt is increased. \n",
    "# object is everything and it is also called as instance"
   ]
  },
  {
   "cell_type": "code",
   "execution_count": 2,
   "id": "926a1363",
   "metadata": {},
   "outputs": [
    {
     "name": "stdout",
     "output_type": "stream",
     "text": [
      "blue\n",
      "mercedes\n"
     ]
    }
   ],
   "source": [
    "# class created\n",
    "class Car:\n",
    "    color = \"blue\"\n",
    "    brand= \"mercedes\"\n",
    "    \n",
    "# oobject is created\n",
    "car1 = Car()\n",
    "print(car1.color)\n",
    "print(car1.brand)"
   ]
  },
  {
   "cell_type": "code",
   "execution_count": null,
   "id": "834c1871",
   "metadata": {},
   "outputs": [],
   "source": []
  },
  {
   "cell_type": "code",
   "execution_count": null,
   "id": "a742e298",
   "metadata": {},
   "outputs": [],
   "source": []
  }
 ],
 "metadata": {
  "kernelspec": {
   "display_name": "Python 3 (ipykernel)",
   "language": "python",
   "name": "python3"
  },
  "language_info": {
   "codemirror_mode": {
    "name": "ipython",
    "version": 3
   },
   "file_extension": ".py",
   "mimetype": "text/x-python",
   "name": "python",
   "nbconvert_exporter": "python",
   "pygments_lexer": "ipython3",
   "version": "3.9.13"
  }
 },
 "nbformat": 4,
 "nbformat_minor": 5
}
