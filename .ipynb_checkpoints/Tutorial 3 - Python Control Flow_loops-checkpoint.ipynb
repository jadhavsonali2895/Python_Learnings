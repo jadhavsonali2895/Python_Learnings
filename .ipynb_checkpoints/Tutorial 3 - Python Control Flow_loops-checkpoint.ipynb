{
 "cells": [
  {
   "cell_type": "code",
   "execution_count": 1,
   "id": "675d55df",
   "metadata": {},
   "outputs": [
    {
     "name": "stdout",
     "output_type": "stream",
     "text": [
      "Enter the value12\n",
      "Value is even number\n"
     ]
    }
   ],
   "source": [
    "val = input(\"Enter the value\")\n",
    "value_float = float(val)\n",
    "if (value_float % 2 == 0):\n",
    "    print(\"Value is even number\")\n"
   ]
  },
  {
   "cell_type": "code",
   "execution_count": 2,
   "id": "6f9e1c0e",
   "metadata": {},
   "outputs": [
    {
     "name": "stdout",
     "output_type": "stream",
     "text": [
      "Enter the value50\n",
      "Value is even number\n"
     ]
    }
   ],
   "source": [
    "val = input(\"Enter the value\")\n",
    "value_float = float(val)\n",
    "if (value_float % 2 == 0):\n",
    "    print(\"Value is even number\")\n",
    "else:\n",
    "    print(\"Value is odd\")"
   ]
  },
  {
   "cell_type": "code",
   "execution_count": 3,
   "id": "4a431f2f",
   "metadata": {},
   "outputs": [
    {
     "name": "stdout",
     "output_type": "stream",
     "text": [
      "Enter your age28\n",
      "Mid Age\n"
     ]
    }
   ],
   "source": [
    "#nested if else conditions :- it contains elif \n",
    "age = int(input(\"Enter your age\"))\n",
    "if (age < 18) :\n",
    "    print(\"minor age\")\n",
    "    if (age<15):\n",
    "        print(\"You are in school\")\n",
    "    else:\n",
    "        print(\"You are in collage\")\n",
    "elif (age >=18 and age <=45):\n",
    "    print(\"Mid Age\")\n",
    "elif (age>45 and age<=50):\n",
    "    print(\"Senior mid age\")\n",
    "else:\n",
    "    print(\"Senior Citizen\")\n",
    "\n",
    "    \n"
   ]
  },
  {
   "cell_type": "markdown",
   "id": "59b4bc03",
   "metadata": {},
   "source": [
    "# loop statement "
   ]
  },
  {
   "cell_type": "code",
   "execution_count": 4,
   "id": "d615b2df",
   "metadata": {},
   "outputs": [
    {
     "name": "stdout",
     "output_type": "stream",
     "text": [
      "1\n",
      "2\n",
      "3\n",
      "4\n",
      "5\n",
      "6\n",
      "7\n",
      "8\n",
      "9\n"
     ]
    }
   ],
   "source": [
    "#for loop\n",
    "lst = [1,2,3,4,5,6,7,8,9]\n",
    "for i in lst:\n",
    "    print(i)"
   ]
  },
  {
   "cell_type": "code",
   "execution_count": 5,
   "id": "c4e68651",
   "metadata": {},
   "outputs": [
    {
     "name": "stdout",
     "output_type": "stream",
     "text": [
      "45\n"
     ]
    }
   ],
   "source": [
    "#for loop - sum of all elements \n",
    "lst = [1,2,3,4,5,6,7,8,9]\n",
    "sum_1 = 0\n",
    "for i in lst:\n",
    "    sum_1 = sum_1 + i\n",
    "print(sum_1)"
   ]
  },
  {
   "cell_type": "code",
   "execution_count": 6,
   "id": "d5913160",
   "metadata": {},
   "outputs": [
    {
     "name": "stdout",
     "output_type": "stream",
     "text": [
      "1\n",
      "3\n",
      "6\n",
      "10\n",
      "15\n",
      "21\n",
      "28\n",
      "36\n",
      "45\n"
     ]
    }
   ],
   "source": [
    "#for loop - sum of all elements \n",
    "lst = [1,2,3,4,5,6,7,8,9]\n",
    "sum_1 = 0\n",
    "for i in lst:\n",
    "    sum_1 = sum_1 + i\n",
    "    print(sum_1) # only the difference of indentation"
   ]
  },
  {
   "cell_type": "code",
   "execution_count": 7,
   "id": "84b73d52",
   "metadata": {},
   "outputs": [
    {
     "name": "stdout",
     "output_type": "stream",
     "text": [
      "Even Sum is 20\n",
      "odd sun is 25\n"
     ]
    }
   ],
   "source": [
    "#for loop - sum of odd and even elements \n",
    "lst = [1,2,3,4,5,6,7,8,9]\n",
    "even_sum = 0\n",
    "odd_sum = 0\n",
    "for i in lst:\n",
    "    if (i % 2==0):\n",
    "        even_sum=even_sum+i\n",
    "    else:\n",
    "        odd_sum=odd_sum+i\n",
    "print(\"Even Sum is {}\". format(even_sum))\n",
    "print(\"odd sun is {}\".format(odd_sum))"
   ]
  },
  {
   "cell_type": "code",
   "execution_count": 8,
   "id": "e5bcef7f",
   "metadata": {},
   "outputs": [
    {
     "name": "stdout",
     "output_type": "stream",
     "text": [
      "0\n",
      "1\n",
      "2\n",
      "3\n",
      "4\n",
      "5\n",
      "6\n",
      "7\n",
      "8\n",
      "9\n",
      "10\n"
     ]
    }
   ],
   "source": [
    "# while loop\n",
    "i = 0\n",
    "while i <= 10 :\n",
    "    print(i)\n",
    "    \n",
    "    i = i+1"
   ]
  },
  {
   "cell_type": "code",
   "execution_count": 9,
   "id": "2262c8bb",
   "metadata": {},
   "outputs": [
    {
     "name": "stdout",
     "output_type": "stream",
     "text": [
      "even =  30 odd = 25\n"
     ]
    }
   ],
   "source": [
    "# while loop\n",
    "i = 0\n",
    "even_sum = 0\n",
    "odd_sum = 0\n",
    "while i <= 10 :\n",
    "    if (i % 2 == 0):\n",
    "        even_sum = even_sum + i \n",
    "    else:\n",
    "        odd_sum = odd_sum + i\n",
    "    \n",
    "    i = i+1\n",
    "print(\"even = \",even_sum,\"odd =\",odd_sum)\n",
    "    \n",
    "    "
   ]
  },
  {
   "cell_type": "code",
   "execution_count": 10,
   "id": "ce36b85e",
   "metadata": {},
   "outputs": [
    {
     "name": "stdout",
     "output_type": "stream",
     "text": [
      "1\n",
      "2\n",
      "3\n",
      "4\n",
      "5\n"
     ]
    }
   ],
   "source": [
    "# break\n",
    "\n",
    "i = 1\n",
    "while (i < 7):\n",
    "    print(i)\n",
    "    if i == 5:\n",
    "        break\n",
    "    i = i+1\n",
    "\n"
   ]
  },
  {
   "cell_type": "code",
   "execution_count": 11,
   "id": "c6d4b199",
   "metadata": {},
   "outputs": [
    {
     "name": "stdout",
     "output_type": "stream",
     "text": [
      "1\n",
      "2\n",
      "3\n",
      "4\n"
     ]
    }
   ],
   "source": [
    "# break\n",
    "\n",
    "i = 1\n",
    "while (i < 7):\n",
    "   \n",
    "    if i == 5:\n",
    "        break\n",
    "    print(i) # output is different due to this print statement \n",
    "    i = i+1"
   ]
  },
  {
   "cell_type": "code",
   "execution_count": 12,
   "id": "8fec0821",
   "metadata": {},
   "outputs": [
    {
     "name": "stdout",
     "output_type": "stream",
     "text": [
      "1\n",
      "2\n",
      "3\n",
      "5\n",
      "6\n",
      "7\n"
     ]
    }
   ],
   "source": [
    "# continue --> that menas you are skipping that perticular step \n",
    "\n",
    "x = 0\n",
    "while (x<7):\n",
    "    x = x+1\n",
    "    if (x==4):\n",
    "        continue\n",
    "    print(x)\n",
    "\n"
   ]
  },
  {
   "cell_type": "markdown",
   "id": "0a7fcc8b",
   "metadata": {},
   "source": [
    "# Tutorial 3 ends here\n"
   ]
  }
 ],
 "metadata": {
  "kernelspec": {
   "display_name": "Python 3 (ipykernel)",
   "language": "python",
   "name": "python3"
  },
  "language_info": {
   "codemirror_mode": {
    "name": "ipython",
    "version": 3
   },
   "file_extension": ".py",
   "mimetype": "text/x-python",
   "name": "python",
   "nbconvert_exporter": "python",
   "pygments_lexer": "ipython3",
   "version": "3.9.13"
  }
 },
 "nbformat": 4,
 "nbformat_minor": 5
}
