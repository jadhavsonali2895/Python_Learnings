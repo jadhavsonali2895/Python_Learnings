{
 "cells": [
  {
   "cell_type": "markdown",
   "id": "f369cba7",
   "metadata": {},
   "source": [
    "# List"
   ]
  },
  {
   "cell_type": "markdown",
   "id": "48634a12",
   "metadata": {},
   "source": [
    "List is data sstructure in python that is mutable or changeable , ordered sequece of elements. Each element or value that is inside the list is called \"item\". Just as strings are defined as character between quotes, lists are defined by having values between square brackets[]"
   ]
  },
  {
   "cell_type": "code",
   "execution_count": 1,
   "id": "b1762247",
   "metadata": {},
   "outputs": [
    {
     "data": {
      "text/plain": [
       "list"
      ]
     },
     "execution_count": 1,
     "metadata": {},
     "output_type": "execute_result"
    }
   ],
   "source": [
    "type([])"
   ]
  },
  {
   "cell_type": "code",
   "execution_count": 2,
   "id": "89d3b428",
   "metadata": {},
   "outputs": [
    {
     "data": {
      "text/plain": [
       "dict"
      ]
     },
     "execution_count": 2,
     "metadata": {},
     "output_type": "execute_result"
    }
   ],
   "source": [
    "type({})"
   ]
  },
  {
   "cell_type": "code",
   "execution_count": 3,
   "id": "119f23e7",
   "metadata": {},
   "outputs": [
    {
     "data": {
      "text/plain": [
       "tuple"
      ]
     },
     "execution_count": 3,
     "metadata": {},
     "output_type": "execute_result"
    }
   ],
   "source": [
    "type(())"
   ]
  },
  {
   "cell_type": "code",
   "execution_count": 4,
   "id": "1ff2877e",
   "metadata": {},
   "outputs": [],
   "source": [
    "lst = [1,2,3,4,5,6]\n",
    "    "
   ]
  },
  {
   "cell_type": "code",
   "execution_count": 5,
   "id": "539d3652",
   "metadata": {},
   "outputs": [
    {
     "data": {
      "text/plain": [
       "6"
      ]
     },
     "execution_count": 5,
     "metadata": {},
     "output_type": "execute_result"
    }
   ],
   "source": [
    "len(lst)"
   ]
  },
  {
   "cell_type": "code",
   "execution_count": 6,
   "id": "ab141ef3",
   "metadata": {},
   "outputs": [
    {
     "name": "stdout",
     "output_type": "stream",
     "text": [
      "1\n",
      "2\n",
      "3\n",
      "4\n",
      "5\n",
      "6\n"
     ]
    }
   ],
   "source": [
    "for i in lst:\n",
    "    print(i)"
   ]
  },
  {
   "cell_type": "code",
   "execution_count": 7,
   "id": "e525e5a4",
   "metadata": {},
   "outputs": [
    {
     "name": "stdout",
     "output_type": "stream",
     "text": [
      "1\n",
      "4\n",
      "9\n",
      "16\n",
      "25\n",
      "36\n"
     ]
    }
   ],
   "source": [
    "for i in lst:\n",
    "    print(i*i)"
   ]
  },
  {
   "cell_type": "code",
   "execution_count": 8,
   "id": "3b81822a",
   "metadata": {},
   "outputs": [
    {
     "name": "stdout",
     "output_type": "stream",
     "text": [
      "21\n"
     ]
    }
   ],
   "source": [
    "sum1=0\n",
    "for i in lst:\n",
    "    sum1 = sum1+i\n",
    "print(sum1)"
   ]
  },
  {
   "cell_type": "code",
   "execution_count": 9,
   "id": "03a9883c",
   "metadata": {},
   "outputs": [
    {
     "name": "stdout",
     "output_type": "stream",
     "text": [
      "1\n",
      "3\n",
      "6\n",
      "10\n",
      "15\n",
      "21\n"
     ]
    }
   ],
   "source": [
    "sum1=0\n",
    "for i in lst:\n",
    "    sum1 = sum1+i\n",
    "    print(sum1)"
   ]
  },
  {
   "cell_type": "code",
   "execution_count": 10,
   "id": "9bee9ae8",
   "metadata": {},
   "outputs": [
    {
     "ename": "SyntaxError",
     "evalue": "invalid syntax (3073521904.py, line 1)",
     "output_type": "error",
     "traceback": [
      "\u001b[1;36m  File \u001b[1;32m\"C:\\Users\\Admin\\AppData\\Local\\Temp\\ipykernel_13280\\3073521904.py\"\u001b[1;36m, line \u001b[1;32m1\u001b[0m\n\u001b[1;33m    max(lst)l\u001b[0m\n\u001b[1;37m            ^\u001b[0m\n\u001b[1;31mSyntaxError\u001b[0m\u001b[1;31m:\u001b[0m invalid syntax\n"
     ]
    }
   ],
   "source": [
    "max(lst)l"
   ]
  },
  {
   "cell_type": "code",
   "execution_count": null,
   "id": "c03e8e89",
   "metadata": {},
   "outputs": [],
   "source": [
    "min(lst)"
   ]
  },
  {
   "cell_type": "markdown",
   "id": "4921d7a2",
   "metadata": {},
   "source": [
    "# append"
   ]
  },
  {
   "cell_type": "code",
   "execution_count": null,
   "id": "50fd65a9",
   "metadata": {},
   "outputs": [],
   "source": [
    "lst.append(\"sonali\")"
   ]
  },
  {
   "cell_type": "code",
   "execution_count": null,
   "id": "edab5b6d",
   "metadata": {},
   "outputs": [],
   "source": [
    "print(lst)"
   ]
  },
  {
   "cell_type": "code",
   "execution_count": null,
   "id": "b37144e1",
   "metadata": {},
   "outputs": [],
   "source": [
    "lst.append([\"jadhav\",\"utekar\"])\n",
    "print(lst)"
   ]
  },
  {
   "cell_type": "code",
   "execution_count": null,
   "id": "0014ffa7",
   "metadata": {},
   "outputs": [],
   "source": [
    "lst[6]"
   ]
  },
  {
   "cell_type": "code",
   "execution_count": null,
   "id": "a85b4885",
   "metadata": {},
   "outputs": [],
   "source": [
    "lst[7][1]"
   ]
  },
  {
   "cell_type": "code",
   "execution_count": null,
   "id": "3fa46ee3",
   "metadata": {},
   "outputs": [],
   "source": [
    "lst[7][0]"
   ]
  },
  {
   "cell_type": "code",
   "execution_count": null,
   "id": "6632f637",
   "metadata": {},
   "outputs": [],
   "source": [
    "lst"
   ]
  },
  {
   "cell_type": "code",
   "execution_count": null,
   "id": "4b7367d2",
   "metadata": {},
   "outputs": [],
   "source": [
    "lst[2:7]"
   ]
  },
  {
   "cell_type": "code",
   "execution_count": null,
   "id": "e7b9ab05",
   "metadata": {},
   "outputs": [],
   "source": [
    "lst[:]"
   ]
  },
  {
   "cell_type": "code",
   "execution_count": null,
   "id": "225903a3",
   "metadata": {},
   "outputs": [],
   "source": [
    "lst[7:]"
   ]
  },
  {
   "cell_type": "code",
   "execution_count": null,
   "id": "87bb3ed7",
   "metadata": {},
   "outputs": [],
   "source": [
    "lst[5:]"
   ]
  },
  {
   "cell_type": "code",
   "execution_count": null,
   "id": "c1b3306c",
   "metadata": {},
   "outputs": [],
   "source": [
    "lst[:4]"
   ]
  },
  {
   "cell_type": "code",
   "execution_count": null,
   "id": "b961008f",
   "metadata": {},
   "outputs": [],
   "source": [
    "lst[:]"
   ]
  },
  {
   "cell_type": "markdown",
   "id": "35969cfa",
   "metadata": {},
   "source": [
    "# insert"
   ]
  },
  {
   "cell_type": "code",
   "execution_count": 13,
   "id": "f64ac88b",
   "metadata": {},
   "outputs": [],
   "source": [
    "lst = [1,2,3,4,5,6,7,8,9,10,11,12,13,14,15,16]"
   ]
  },
  {
   "cell_type": "code",
   "execution_count": 14,
   "id": "a132bc29",
   "metadata": {},
   "outputs": [
    {
     "name": "stdout",
     "output_type": "stream",
     "text": [
      "[1, 2, 'python', 3, 4, 5, 6, 7, 8, 9, 10, 11, 12, 13, 14, 15, 16]\n"
     ]
    }
   ],
   "source": [
    "lst.insert(2,\"python\")\n",
    "print(lst)"
   ]
  },
  {
   "cell_type": "markdown",
   "id": "a32287b2",
   "metadata": {},
   "source": [
    "# Extend Method"
   ]
  },
  {
   "cell_type": "code",
   "execution_count": 17,
   "id": "5b42272a",
   "metadata": {},
   "outputs": [
    {
     "data": {
      "text/plain": [
       "[100, 20, 30, 40, 50, 60, 70, 80, 90, 110, 120, 130]"
      ]
     },
     "execution_count": 17,
     "metadata": {},
     "output_type": "execute_result"
    }
   ],
   "source": [
    "lst2 = [100,20,30,40,50,60,70,80,90,110,120,130]\n",
    "lst2"
   ]
  },
  {
   "cell_type": "code",
   "execution_count": 20,
   "id": "62a8119d",
   "metadata": {},
   "outputs": [
    {
     "name": "stdout",
     "output_type": "stream",
     "text": [
      "[100, 20, 30, 40, 50, 60, 70, 80, 90, 110, 120, 130, 'sonali', 'jadhav']\n"
     ]
    }
   ],
   "source": [
    "lst2.extend([\"sonali\",\"jadhav\"])\n",
    "print(lst2)\n"
   ]
  },
  {
   "cell_type": "markdown",
   "id": "0d4823e4",
   "metadata": {},
   "source": [
    "# other operations in list"
   ]
  },
  {
   "cell_type": "code",
   "execution_count": 21,
   "id": "9a741412",
   "metadata": {},
   "outputs": [
    {
     "data": {
      "text/plain": [
       "[1, 2, 3, 4, 5, 6, 7, 8, 9, 10]"
      ]
     },
     "execution_count": 21,
     "metadata": {},
     "output_type": "execute_result"
    }
   ],
   "source": [
    "lst3 = [1,2,3,4,5,6,7,8,9,10]\n",
    "lst3"
   ]
  },
  {
   "cell_type": "code",
   "execution_count": 22,
   "id": "a8786248",
   "metadata": {},
   "outputs": [
    {
     "data": {
      "text/plain": [
       "55"
      ]
     },
     "execution_count": 22,
     "metadata": {},
     "output_type": "execute_result"
    }
   ],
   "source": [
    "sum(lst3)"
   ]
  },
  {
   "cell_type": "code",
   "execution_count": 24,
   "id": "85e2e1ec",
   "metadata": {},
   "outputs": [
    {
     "data": {
      "text/plain": [
       "[1, 2, 3, 4, 5, 6, 7, 8, 9, 10, 1, 2, 3, 4, 5, 6, 7, 8, 9, 10]"
      ]
     },
     "execution_count": 24,
     "metadata": {},
     "output_type": "execute_result"
    }
   ],
   "source": [
    "lst3*2"
   ]
  },
  {
   "cell_type": "code",
   "execution_count": 28,
   "id": "0bbbeafb",
   "metadata": {},
   "outputs": [
    {
     "data": {
      "text/plain": [
       "8"
      ]
     },
     "execution_count": 28,
     "metadata": {},
     "output_type": "execute_result"
    }
   ],
   "source": [
    "lst3.pop(6)"
   ]
  },
  {
   "cell_type": "code",
   "execution_count": 35,
   "id": "6b20e6f7",
   "metadata": {},
   "outputs": [
    {
     "data": {
      "text/plain": [
       "[1, 1, 2, 5, 6, 6, 8, 7, 9]"
      ]
     },
     "execution_count": 35,
     "metadata": {},
     "output_type": "execute_result"
    }
   ],
   "source": [
    "list4=[1,1,2,5,6,6,8,7,9]\n",
    "list4\n"
   ]
  },
  {
   "cell_type": "code",
   "execution_count": 37,
   "id": "15589d79",
   "metadata": {},
   "outputs": [
    {
     "data": {
      "text/plain": [
       "2"
      ]
     },
     "execution_count": 37,
     "metadata": {},
     "output_type": "execute_result"
    }
   ],
   "source": [
    "list4.count(6)"
   ]
  },
  {
   "cell_type": "code",
   "execution_count": null,
   "id": "68bc63dc",
   "metadata": {},
   "outputs": [],
   "source": []
  }
 ],
 "metadata": {
  "kernelspec": {
   "display_name": "Python 3 (ipykernel)",
   "language": "python",
   "name": "python3"
  },
  "language_info": {
   "codemirror_mode": {
    "name": "ipython",
    "version": 3
   },
   "file_extension": ".py",
   "mimetype": "text/x-python",
   "name": "python",
   "nbconvert_exporter": "python",
   "pygments_lexer": "ipython3",
   "version": "3.9.13"
  }
 },
 "nbformat": 4,
 "nbformat_minor": 5
}
