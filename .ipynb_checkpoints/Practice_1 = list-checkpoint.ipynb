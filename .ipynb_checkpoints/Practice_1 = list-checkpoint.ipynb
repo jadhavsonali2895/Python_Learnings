{
 "cells": [
  {
   "cell_type": "raw",
   "id": "929908e8",
   "metadata": {},
   "source": [
    "lst=([])\n",
    "type(lst)"
   ]
  },
  {
   "cell_type": "raw",
   "id": "b2ad32bd",
   "metadata": {},
   "source": [
    "lst=[1,20,3,50,40,80,90] # check the maximum number \n",
    "\n",
    "for i in lst:\n",
    "    if i > 0 :\n",
    "        print(i)\n"
   ]
  },
  {
   "cell_type": "raw",
   "id": "7f64c034",
   "metadata": {},
   "source": [
    "weekdays = [\"monday\",\"tuesday\",\"wednesday\",\"thursday\",\"friday\",\"saturday\",\"sunday\"]\n",
    "type(weekdays)"
   ]
  },
  {
   "cell_type": "raw",
   "id": "ae55ceb6",
   "metadata": {},
   "source": [
    "# change the \"thursday \" in \"none\" \n",
    "\n",
    "weekdays[3]=\"none\"\n",
    "weekdays"
   ]
  },
  {
   "cell_type": "raw",
   "id": "1beb2a76",
   "metadata": {},
   "source": [
    "num = [1,2,3,4,5,6,7,8,9]\n",
    "num[4]"
   ]
  },
  {
   "cell_type": "raw",
   "id": "49f8b8ab",
   "metadata": {},
   "source": [
    "# List Practice questions\n",
    "\n",
    "1.Program to find sum of all elements of the list\n",
    "2.program to count total number of odd and even numbers in the list\n",
    "3.program to find out sum of even numbers and product of odd numbers in list\n",
    "4.program to search a number in list\n",
    "5.program to count the frequency of given number\n",
    "6.program to find max number of the list\n",
    "7.program to find min number of the list\n",
    "8.program to reverse the list itself\n",
    "9.program to insert the number at given index in an list\n",
    "10.program to remove the given number of the list\n",
    "\n",
    "\n",
    "\n",
    "\n"
   ]
  },
  {
   "cell_type": "code",
   "execution_count": 30,
   "id": "40eaa3e3",
   "metadata": {},
   "outputs": [],
   "source": [
    "lst = [1,2,3,4,5,6,7,8,9,10]"
   ]
  },
  {
   "cell_type": "code",
   "execution_count": 31,
   "id": "acf68bbe",
   "metadata": {},
   "outputs": [
    {
     "name": "stdout",
     "output_type": "stream",
     "text": [
      "1\n",
      "3\n",
      "6\n",
      "10\n",
      "15\n",
      "21\n",
      "28\n",
      "36\n",
      "45\n",
      "55\n"
     ]
    }
   ],
   "source": [
    "# 1.Program to find sum of all elements of the list?\n",
    "\n",
    "lst = [1,2,3,4,5,6,7,8,9,10]\n",
    "sum1 = 0\n",
    "for i in range (len(lst)):\n",
    "    sum1 = sum1 + lst[i]\n",
    "    print(sum1)\n",
    "\n",
    "\n",
    "\n"
   ]
  },
  {
   "cell_type": "code",
   "execution_count": 33,
   "id": "43e1883d",
   "metadata": {},
   "outputs": [
    {
     "name": "stdout",
     "output_type": "stream",
     "text": [
      "total even =  30 total odd =  25\n"
     ]
    }
   ],
   "source": [
    "# 2 program to sum total number of odd and even numbers in the list\n",
    "even_num = 0\n",
    "odd_num = 0\n",
    "for i in lst:\n",
    "    if i % 2 == 0:\n",
    "        even_num = even_num + i\n",
    "    else:\n",
    "        odd_num = odd_num + i\n",
    "        \n",
    "print(\"total even = \",even_num, \"total odd = \", odd_num)\n",
    "    \n",
    "\n",
    "\n"
   ]
  },
  {
   "cell_type": "code",
   "execution_count": 44,
   "id": "4c7096f6",
   "metadata": {},
   "outputs": [
    {
     "name": "stdout",
     "output_type": "stream",
     "text": [
      "Total number of elements in the list: 10\n"
     ]
    }
   ],
   "source": [
    "#count of all elements in the list \n",
    "lst = [1, 2, 3, 4, 5, 6, 7, 8, 9, 10]\n",
    "count = 0\n",
    "for _ in lst:\n",
    "    count += 1\n",
    "print(\"Total number of elements in the list:\", count)\n",
    "\n",
    "    "
   ]
  },
  {
   "cell_type": "code",
   "execution_count": 47,
   "id": "fde0c40e",
   "metadata": {},
   "outputs": [
    {
     "name": "stdout",
     "output_type": "stream",
     "text": [
      "even 5   odd 5\n"
     ]
    }
   ],
   "source": [
    "# count of odd and even number of the list\n",
    "lst = [1, 2, 3, 4, 5, 6, 7, 8, 9, 10]\n",
    "count = 0\n",
    "even = 0\n",
    "odd = 0\n",
    "for _ in lst:\n",
    "    if _ % 2 == 0:\n",
    "        even += 1\n",
    "    else:\n",
    "        odd +=1\n",
    "        \n",
    "print(\"even\",even,\" \",\"odd\",odd)\n"
   ]
  },
  {
   "cell_type": "code",
   "execution_count": 49,
   "id": "268e2d16",
   "metadata": {},
   "outputs": [
    {
     "name": "stdout",
     "output_type": "stream",
     "text": [
      "5\n"
     ]
    }
   ],
   "source": [
    "lst2 = [\"apple\",\"banana\",\"guava\",\"chiku\",\"grapes\"] # We have count the elemnets in given list by using for loop\n",
    "count = 0\n",
    "for _ in lst2:\n",
    "    count+=1\n",
    "print(count)"
   ]
  },
  {
   "cell_type": "code",
   "execution_count": 54,
   "id": "7eefb8c6",
   "metadata": {},
   "outputs": [
    {
     "name": "stdout",
     "output_type": "stream",
     "text": [
      "sum of even  660\n",
      "product of odd 1\n"
     ]
    }
   ],
   "source": [
    "# 3.program to find out sum of even numbers and product of odd numbers in list\n",
    "lst3 = [20,30,40,10,50,60,70,80,90,100,110]\n",
    "\n",
    "\n",
    "even = 0\n",
    "odd = 1\n",
    "\n",
    "for i in lst3:\n",
    "    if i % 2 == 0:\n",
    "        even += i\n",
    "    else:\n",
    "        odd *+ i\n",
    "        \n",
    "print(\"sum of even \",even)\n",
    "print(\"product of odd\",odd)\n",
    "\n",
    "\n",
    "\n",
    "\n",
    "\n",
    "\n"
   ]
  },
  {
   "cell_type": "code",
   "execution_count": 56,
   "id": "481c3905",
   "metadata": {},
   "outputs": [
    {
     "name": "stdout",
     "output_type": "stream",
     "text": [
      "Search your number which is available in the list or not here.. 100\n",
      "number is available in the list \n"
     ]
    }
   ],
   "source": [
    "# 4.program to search a number in list\n",
    "lst3 = [20,30,40,10,50,60,70,80,90,100,110]\n",
    "search = int(input(\"Search your number which is available in the list or not here.. \"))\n",
    "found = False\n",
    "for i in lst3 :\n",
    "    if search == i :\n",
    "        found  = True\n",
    "        \n",
    "        break \n",
    "if found :\n",
    "    print (\"number is available in the list \")\n",
    "else:\n",
    "    print(\"number is not available in the list \")\n",
    "\n",
    "\n",
    "\n",
    "\n",
    "\n"
   ]
  },
  {
   "cell_type": "code",
   "execution_count": 60,
   "id": "bee4322f",
   "metadata": {},
   "outputs": [
    {
     "name": "stdout",
     "output_type": "stream",
     "text": [
      "Enter the ice-cream flavor you want to search for: mango\n",
      "mango flavor is available in the shop.\n"
     ]
    }
   ],
   "source": [
    "lst4 = [\"vanilla\", \"chocolate\", \"butterscotch\", \"pista\", \"almond\", \"coconut\", \"mango\"]\n",
    "search = input(\"Enter the ice-cream flavor you want to search for: \")\n",
    "found = False\n",
    "\n",
    "for flavor in lst4:\n",
    "    if search.lower() == flavor.lower():  # Case-insensitive comparison\n",
    "        found = True\n",
    "        break\n",
    "\n",
    "if found:\n",
    "    print(search, \"flavor is available in the shop.\")\n",
    "else:\n",
    "    print(search, \"flavor is not available in the shop.\")\n",
    "\n",
    "    \n",
    "    \n",
    "    "
   ]
  },
  {
   "cell_type": "code",
   "execution_count": 62,
   "id": "c0e1b18c",
   "metadata": {},
   "outputs": [
    {
     "name": "stdout",
     "output_type": "stream",
     "text": [
      "enter your favorate color pink\n",
      "pink color is not there in the list\n"
     ]
    }
   ],
   "source": [
    "lst5 = [\"black\",\"yellow\",\"red\",\"white\",\"purple\",\"blue\",\"gray\",\"brown\"]\n",
    "search = input(\"enter your favorate color \")\n",
    "found = False\n",
    "for favorate in lst5:\n",
    "    if search.lower() == favorate.lower():\n",
    "        found = True\n",
    "        \n",
    "        break\n",
    "        \n",
    "if found:\n",
    "    print(search, \"color is there in the list\")\n",
    "else:\n",
    "    print(search,\"color is not there in the list\")\n",
    "        \n",
    "    "
   ]
  },
  {
   "cell_type": "code",
   "execution_count": 70,
   "id": "a9c1fd7f",
   "metadata": {},
   "outputs": [
    {
     "name": "stdout",
     "output_type": "stream",
     "text": [
      "Enter the number to count its frequency: 50\n",
      "Frequency of 50 in the list: 3\n"
     ]
    }
   ],
   "source": [
    "new_list = [1, 2, 50, 22, 33, 44, 11, 1, 2, 50, 22, 33, 99, 77, 10, 100, 101, 55, 50, 33, 33, 22, 11, 1]\n",
    "number_to_find = int(input(\"Enter the number to count its frequency: \"))\n",
    "frequency = 0\n",
    "\n",
    "for num in new_list:\n",
    "    if num == number_to_find:\n",
    "        frequency += 1\n",
    "\n",
    "print(\"Frequency of\", number_to_find, \"in the list:\", frequency)\n",
    "    \n",
    "\n",
    "\n",
    "\n",
    "\n",
    "\n"
   ]
  },
  {
   "cell_type": "code",
   "execution_count": 74,
   "id": "934d260a",
   "metadata": {},
   "outputs": [
    {
     "name": "stdout",
     "output_type": "stream",
     "text": [
      "find your food freqency in the listcake\n",
      "frequency of  cake in the list is  2\n"
     ]
    }
   ],
   "source": [
    "food_list = [\"vadapav\",\"juice\",\"panipuri\",\"sandwitch\",\"cake\",\"lassi\",\"naan\",\"lassi\",\"juice\",\"cake\",\"donut\"]\n",
    "search_freq = input(\"find your food freqency in the list\")\n",
    "frequency = 0\n",
    "for i in food_list:\n",
    "    if search_freq.lower() == i.lower():\n",
    "        frequency = frequency + 1\n",
    "print(\"frequency of \",search_freq,\"in the list is \",frequency)\n",
    "        \n",
    "        \n",
    "        \n",
    "        "
   ]
  },
  {
   "cell_type": "code",
   "execution_count": 75,
   "id": "f522cbb8",
   "metadata": {},
   "outputs": [
    {
     "name": "stdout",
     "output_type": "stream",
     "text": [
      "search for frequency of the number5\n",
      "frequency of 5 is 2\n"
     ]
    }
   ],
   "source": [
    "numbers= [1,2,3,4,5,6,7,8,9,1,2,3,4,5,6,7,8,9]\n",
    "search_freq = int(input(\"search for frequency of the number\"))\n",
    "frequency = 0\n",
    "for i in numbers:\n",
    "    if i == search_freq:\n",
    "        frequency+=1\n",
    "        \n",
    "print(\"frequency of\",search_freq,\"is\",frequency)\n",
    "\n",
    "\n"
   ]
  },
  {
   "cell_type": "code",
   "execution_count": 80,
   "id": "74791a06",
   "metadata": {},
   "outputs": [
    {
     "name": "stdout",
     "output_type": "stream",
     "text": [
      "minimum number is  1\n"
     ]
    }
   ],
   "source": [
    "# program to find min number of the list\n",
    "new_list = [1, 2, 50, 22, 33, 44, 11, 1, 2, 50, 22, 33, 99, 77, 10, 100, 101, 55, 50, 33, 33, 22, 11, 1]\n",
    "min_num = 0\n",
    "for i in new_list:\n",
    "    if i < min_num:\n",
    "        min_num = i\n",
    "        \n",
    "print(\"minimum number is \", i)\n",
    "\n",
    "\n",
    "\n",
    "\n"
   ]
  },
  {
   "cell_type": "code",
   "execution_count": 81,
   "id": "159bcf67",
   "metadata": {},
   "outputs": [
    {
     "name": "stdout",
     "output_type": "stream",
     "text": [
      "Maximum number in the list: 101\n"
     ]
    }
   ],
   "source": [
    "# program to find max number of the list\n",
    "\n",
    "new_list = [1, 2, 50, 22, 33, 44, 11, 1, 2, 50, 22, 33, 99, 77, 10, 100, 101, 55, 50, 33, 33, 22, 11, 1]\n",
    "max_num = 0\n",
    "for i in new_list:\n",
    "    if i > max_num:\n",
    "        max_num = i\n",
    "        \n",
    "        \n",
    "print(\"Maximum number in the list:\", max_num)\n",
    "        \n",
    "\n",
    "\n"
   ]
  },
  {
   "cell_type": "code",
   "execution_count": 82,
   "id": "f8588e73",
   "metadata": {},
   "outputs": [
    {
     "name": "stdout",
     "output_type": "stream",
     "text": [
      "Reversed list: [20, 19, 18, 17, 16, 15, 14, 13, 12, 11, 10, 9, 8, 7, 6, 5, 4, 3, 2, 1]\n"
     ]
    }
   ],
   "source": [
    "new_list2 = [1, 2, 3, 4, 5, 6, 7, 8, 9, 10, 11, 12, 13, 14, 15, 16, 17, 18, 19, 20]\n",
    "\n",
    "for i in range(len(new_list2) // 2):\n",
    "    # Swap elements at index i with corresponding element from the end\n",
    "    new_list2[i], new_list2[-i - 1] = new_list2[-i - 1], new_list2[i]\n",
    "\n",
    "print(\"Reversed list:\", new_list2)\n",
    "     \n",
    "\n"
   ]
  },
  {
   "cell_type": "code",
   "execution_count": 84,
   "id": "0d690078",
   "metadata": {},
   "outputs": [
    {
     "name": "stdout",
     "output_type": "stream",
     "text": [
      "[5, 4, 3, 2, 1]\n"
     ]
    }
   ],
   "source": [
    "a = [1, 2, 3, 4, 5]\n",
    "for i in range(len(a) // 2):\n",
    "    a[i], a[-i - 1] = a[-i - 1], a[i]\n",
    "\n",
    "print(a)\n"
   ]
  },
  {
   "cell_type": "code",
   "execution_count": 86,
   "id": "18bcd93f",
   "metadata": {},
   "outputs": [
    {
     "name": "stdout",
     "output_type": "stream",
     "text": [
      "Enter the index where you want to insert the number: 2\n",
      "Enter the number you want to insert: 1\n",
      "Updated list: [1, 2, 1, 3, 4, 5]\n"
     ]
    }
   ],
   "source": [
    "my_list = [1, 2, 3, 4, 5]\n",
    "index = int(input(\"Enter the index where you want to insert the number: \"))\n",
    "number = int(input(\"Enter the number you want to insert: \"))\n",
    "\n",
    "my_list.insert(index, number)\n",
    "\n",
    "print(\"Updated list:\", my_list)"
   ]
  },
  {
   "cell_type": "code",
   "execution_count": 88,
   "id": "0e86f6d4",
   "metadata": {},
   "outputs": [
    {
     "name": "stdout",
     "output_type": "stream",
     "text": [
      "Enter the index where you want to insert the element: 2\n",
      "Enter your new element: chocolate\n",
      "Updated list: ['apple', 'banana', 'chocolate', 'chiku', 'guava', 'mango']\n"
     ]
    }
   ],
   "source": [
    "fruits = [\"apple\", \"banana\", \"chiku\", \"guava\", \"mango\"]\n",
    "index = int(input(\"Enter the index where you want to insert the element: \"))\n",
    "element = input(\"Enter your new element: \")\n",
    "\n",
    "fruits.insert(index, element)\n",
    "\n",
    "print(\"Updated list:\", fruits)\n"
   ]
  },
  {
   "cell_type": "code",
   "execution_count": 89,
   "id": "5c558920",
   "metadata": {},
   "outputs": [
    {
     "name": "stdout",
     "output_type": "stream",
     "text": [
      "['banana', 'chiku', 'guava', 'mango']\n"
     ]
    }
   ],
   "source": [
    "# program to remove the given number of the list\n",
    "fruits = [\"apple\", \"banana\", \"chiku\", \"guava\", \"mango\"]\n",
    "\n",
    "fruits.remove(\"apple\")\n",
    "print(fruits)\n",
    "\n"
   ]
  },
  {
   "cell_type": "code",
   "execution_count": 92,
   "id": "c3885d41",
   "metadata": {},
   "outputs": [
    {
     "name": "stdout",
     "output_type": "stream",
     "text": [
      "Enter the number you want to remove from the list: 200\n",
      "Number is not available in the list.\n"
     ]
    }
   ],
   "source": [
    "my_num = [10, 20, 30, 50, 60, 80, 90, 100, 105]\n",
    "number = int(input(\"Enter the number you want to remove from the list: \"))\n",
    "\n",
    "if number in my_num:\n",
    "    my_num.remove(number)\n",
    "    print(number, \"is removed from the list.\")\n",
    "    print(\"Updated list:\", my_num)\n",
    "else:\n",
    "    print(\"Number is not available in the list.\")\n"
   ]
  },
  {
   "cell_type": "code",
   "execution_count": null,
   "id": "b3a602cc",
   "metadata": {},
   "outputs": [],
   "source": []
  }
 ],
 "metadata": {
  "kernelspec": {
   "display_name": "Python 3 (ipykernel)",
   "language": "python",
   "name": "python3"
  },
  "language_info": {
   "codemirror_mode": {
    "name": "ipython",
    "version": 3
   },
   "file_extension": ".py",
   "mimetype": "text/x-python",
   "name": "python",
   "nbconvert_exporter": "python",
   "pygments_lexer": "ipython3",
   "version": "3.9.13"
  }
 },
 "nbformat": 4,
 "nbformat_minor": 5
}
