{
 "cells": [
  {
   "cell_type": "markdown",
   "id": "f1de9e5a",
   "metadata": {},
   "source": [
    "# Python Number methods"
   ]
  },
  {
   "cell_type": "markdown",
   "id": "58ce7ffd",
   "metadata": {},
   "source": [
    "abs()\n",
    "abs(x) will return the absolute value of a number x which we pass in argument. The number x can be integer, float, complex,.."
   ]
  },
  {
   "cell_type": "code",
   "execution_count": 3,
   "id": "2b68dfe2",
   "metadata": {},
   "outputs": [
    {
     "data": {
      "text/plain": [
       "10"
      ]
     },
     "execution_count": 3,
     "metadata": {},
     "output_type": "execute_result"
    }
   ],
   "source": [
    "abs(-10)"
   ]
  },
  {
   "cell_type": "code",
   "execution_count": 4,
   "id": "2d80a850",
   "metadata": {},
   "outputs": [
    {
     "data": {
      "text/plain": [
       "5"
      ]
     },
     "execution_count": 4,
     "metadata": {},
     "output_type": "execute_result"
    }
   ],
   "source": [
    "abs(5)"
   ]
  },
  {
   "cell_type": "code",
   "execution_count": 5,
   "id": "c148b2c1",
   "metadata": {},
   "outputs": [
    {
     "data": {
      "text/plain": [
       "35.5"
      ]
     },
     "execution_count": 5,
     "metadata": {},
     "output_type": "execute_result"
    }
   ],
   "source": [
    "abs(35.5)"
   ]
  },
  {
   "cell_type": "code",
   "execution_count": 6,
   "id": "e23ffd34",
   "metadata": {},
   "outputs": [
    {
     "data": {
      "text/plain": [
       "44"
      ]
     },
     "execution_count": 6,
     "metadata": {},
     "output_type": "execute_result"
    }
   ],
   "source": [
    "abs(-44)"
   ]
  },
  {
   "cell_type": "markdown",
   "id": "4c6f8e80",
   "metadata": {},
   "source": [
    "ceil()\n",
    "ceil(x) will return the ceiling value of a number x which we pass in argument. The ceiling value of a number x will be the smallest integer not less than x\n",
    "\n",
    "Note :- This function will not be accessible directly using ceil() method. Math module will be required to access this method."
   ]
  },
  {
   "cell_type": "code",
   "execution_count": 7,
   "id": "d3002bf7",
   "metadata": {},
   "outputs": [],
   "source": [
    "import math"
   ]
  },
  {
   "cell_type": "code",
   "execution_count": 9,
   "id": "2b978312",
   "metadata": {},
   "outputs": [
    {
     "data": {
      "text/plain": [
       "44"
      ]
     },
     "execution_count": 9,
     "metadata": {},
     "output_type": "execute_result"
    }
   ],
   "source": [
    "math.ceil(43.67)"
   ]
  },
  {
   "cell_type": "code",
   "execution_count": 10,
   "id": "506fdf8c",
   "metadata": {},
   "outputs": [
    {
     "data": {
      "text/plain": [
       "44"
      ]
     },
     "execution_count": 10,
     "metadata": {},
     "output_type": "execute_result"
    }
   ],
   "source": [
    "math.ceil(43.3)"
   ]
  },
  {
   "cell_type": "code",
   "execution_count": 11,
   "id": "de66165d",
   "metadata": {},
   "outputs": [
    {
     "data": {
      "text/plain": [
       "-44"
      ]
     },
     "execution_count": 11,
     "metadata": {},
     "output_type": "execute_result"
    }
   ],
   "source": [
    "math.ceil(-44.5)"
   ]
  },
  {
   "cell_type": "markdown",
   "id": "e988ff37",
   "metadata": {},
   "source": [
    "# floor"
   ]
  },
  {
   "cell_type": "code",
   "execution_count": 12,
   "id": "d0b3d8e1",
   "metadata": {},
   "outputs": [
    {
     "data": {
      "text/plain": [
       "44"
      ]
     },
     "execution_count": 12,
     "metadata": {},
     "output_type": "execute_result"
    }
   ],
   "source": [
    "math.floor(44.5)"
   ]
  },
  {
   "cell_type": "code",
   "execution_count": 13,
   "id": "6da24739",
   "metadata": {},
   "outputs": [
    {
     "data": {
      "text/plain": [
       "23"
      ]
     },
     "execution_count": 13,
     "metadata": {},
     "output_type": "execute_result"
    }
   ],
   "source": [
    "math.floor(23.2)"
   ]
  },
  {
   "cell_type": "code",
   "execution_count": 14,
   "id": "11b516de",
   "metadata": {},
   "outputs": [
    {
     "data": {
      "text/plain": [
       "-24"
      ]
     },
     "execution_count": 14,
     "metadata": {},
     "output_type": "execute_result"
    }
   ],
   "source": [
    "math.floor(-23.2)"
   ]
  },
  {
   "cell_type": "code",
   "execution_count": 15,
   "id": "cd5a4f4a",
   "metadata": {},
   "outputs": [
    {
     "data": {
      "text/plain": [
       "-56"
      ]
     },
     "execution_count": 15,
     "metadata": {},
     "output_type": "execute_result"
    }
   ],
   "source": [
    "math.floor(-55.56)"
   ]
  },
  {
   "cell_type": "markdown",
   "id": "3aa7bb9d",
   "metadata": {},
   "source": [
    "# exponential function"
   ]
  },
  {
   "cell_type": "code",
   "execution_count": 17,
   "id": "b9ee7df6",
   "metadata": {},
   "outputs": [
    {
     "data": {
      "text/plain": [
       "0.006737946999085467"
      ]
     },
     "execution_count": 17,
     "metadata": {},
     "output_type": "execute_result"
    }
   ],
   "source": [
    "math.exp(-5)"
   ]
  },
  {
   "cell_type": "code",
   "execution_count": 18,
   "id": "cf3fcd13",
   "metadata": {},
   "outputs": [
    {
     "data": {
      "text/plain": [
       "148.4131591025766"
      ]
     },
     "execution_count": 18,
     "metadata": {},
     "output_type": "execute_result"
    }
   ],
   "source": [
    "math.exp(5)"
   ]
  },
  {
   "cell_type": "code",
   "execution_count": 19,
   "id": "0000d088",
   "metadata": {},
   "outputs": [
    {
     "data": {
      "text/plain": [
       "7.38905609893065"
      ]
     },
     "execution_count": 19,
     "metadata": {},
     "output_type": "execute_result"
    }
   ],
   "source": [
    "math.exp(2)"
   ]
  },
  {
   "cell_type": "markdown",
   "id": "daed5756",
   "metadata": {},
   "source": [
    "# fabs"
   ]
  },
  {
   "cell_type": "code",
   "execution_count": 20,
   "id": "7f5490cc",
   "metadata": {},
   "outputs": [
    {
     "data": {
      "text/plain": [
       "2.1"
      ]
     },
     "execution_count": 20,
     "metadata": {},
     "output_type": "execute_result"
    }
   ],
   "source": [
    "math.fabs(2.1)"
   ]
  },
  {
   "cell_type": "code",
   "execution_count": 21,
   "id": "24b741b1",
   "metadata": {},
   "outputs": [
    {
     "data": {
      "text/plain": [
       "10.0"
      ]
     },
     "execution_count": 21,
     "metadata": {},
     "output_type": "execute_result"
    }
   ],
   "source": [
    "math.fabs(10)"
   ]
  },
  {
   "cell_type": "code",
   "execution_count": 22,
   "id": "f25e633b",
   "metadata": {},
   "outputs": [
    {
     "data": {
      "text/plain": [
       "5.5"
      ]
     },
     "execution_count": 22,
     "metadata": {},
     "output_type": "execute_result"
    }
   ],
   "source": [
    "math.fabs(5.5)"
   ]
  },
  {
   "cell_type": "code",
   "execution_count": 23,
   "id": "ade09966",
   "metadata": {},
   "outputs": [
    {
     "data": {
      "text/plain": [
       "55.0"
      ]
     },
     "execution_count": 23,
     "metadata": {},
     "output_type": "execute_result"
    }
   ],
   "source": [
    "math.fabs(55)"
   ]
  },
  {
   "cell_type": "code",
   "execution_count": 24,
   "id": "1ee3c9ae",
   "metadata": {},
   "outputs": [
    {
     "data": {
      "text/plain": [
       "44.0"
      ]
     },
     "execution_count": 24,
     "metadata": {},
     "output_type": "execute_result"
    }
   ],
   "source": [
    "math.fabs(44)"
   ]
  },
  {
   "cell_type": "markdown",
   "id": "f4cc52a0",
   "metadata": {},
   "source": [
    "# log"
   ]
  },
  {
   "cell_type": "code",
   "execution_count": 27,
   "id": "5c39ec5f",
   "metadata": {},
   "outputs": [
    {
     "data": {
      "text/plain": [
       "1.6094379124341003"
      ]
     },
     "execution_count": 27,
     "metadata": {},
     "output_type": "execute_result"
    }
   ],
   "source": [
    "math.log(5)"
   ]
  },
  {
   "cell_type": "code",
   "execution_count": 29,
   "id": "80cfeb25",
   "metadata": {},
   "outputs": [
    {
     "data": {
      "text/plain": [
       "1.6094379124341003"
      ]
     },
     "execution_count": 29,
     "metadata": {},
     "output_type": "execute_result"
    }
   ],
   "source": [
    "math.log(5)"
   ]
  },
  {
   "cell_type": "code",
   "execution_count": 30,
   "id": "0448bd72",
   "metadata": {},
   "outputs": [
    {
     "data": {
      "text/plain": [
       "0.6931471805599453"
      ]
     },
     "execution_count": 30,
     "metadata": {},
     "output_type": "execute_result"
    }
   ],
   "source": [
    "math.log(2)"
   ]
  },
  {
   "cell_type": "code",
   "execution_count": 31,
   "id": "ed4e3165",
   "metadata": {},
   "outputs": [
    {
     "data": {
      "text/plain": [
       "2.302585092994046"
      ]
     },
     "execution_count": 31,
     "metadata": {},
     "output_type": "execute_result"
    }
   ],
   "source": [
    "math.log(10)"
   ]
  },
  {
   "cell_type": "code",
   "execution_count": 32,
   "id": "bda9638e",
   "metadata": {},
   "outputs": [
    {
     "data": {
      "text/plain": [
       "0.0"
      ]
     },
     "execution_count": 32,
     "metadata": {},
     "output_type": "execute_result"
    }
   ],
   "source": [
    "math.log(1)"
   ]
  },
  {
   "cell_type": "code",
   "execution_count": 33,
   "id": "1f564d92",
   "metadata": {},
   "outputs": [
    {
     "data": {
      "text/plain": [
       "4.182050142641207"
      ]
     },
     "execution_count": 33,
     "metadata": {},
     "output_type": "execute_result"
    }
   ],
   "source": [
    "math.log(65.5)"
   ]
  },
  {
   "cell_type": "code",
   "execution_count": 34,
   "id": "3e0e62c5",
   "metadata": {},
   "outputs": [
    {
     "data": {
      "text/plain": [
       "1.0"
      ]
     },
     "execution_count": 34,
     "metadata": {},
     "output_type": "execute_result"
    }
   ],
   "source": [
    "math.log10(10)"
   ]
  },
  {
   "cell_type": "markdown",
   "id": "b9fe9681",
   "metadata": {},
   "source": [
    "# max()"
   ]
  },
  {
   "cell_type": "code",
   "execution_count": 37,
   "id": "b9b6d17a",
   "metadata": {},
   "outputs": [
    {
     "data": {
      "text/plain": [
       "500"
      ]
     },
     "execution_count": 37,
     "metadata": {},
     "output_type": "execute_result"
    }
   ],
   "source": [
    "max(10,100,500,24,-25)"
   ]
  },
  {
   "cell_type": "code",
   "execution_count": 38,
   "id": "7c396d13",
   "metadata": {},
   "outputs": [
    {
     "data": {
      "text/plain": [
       "-10"
      ]
     },
     "execution_count": 38,
     "metadata": {},
     "output_type": "execute_result"
    }
   ],
   "source": [
    "max(-10,-100,-500,-24,-25)"
   ]
  },
  {
   "cell_type": "code",
   "execution_count": 39,
   "id": "43caf0c0",
   "metadata": {},
   "outputs": [
    {
     "data": {
      "text/plain": [
       "1000"
      ]
     },
     "execution_count": 39,
     "metadata": {},
     "output_type": "execute_result"
    }
   ],
   "source": [
    "max(50,88,45,60,77,1000)"
   ]
  },
  {
   "cell_type": "markdown",
   "id": "47dccec1",
   "metadata": {},
   "source": [
    "# min()"
   ]
  },
  {
   "cell_type": "code",
   "execution_count": 40,
   "id": "d0e709f9",
   "metadata": {},
   "outputs": [
    {
     "data": {
      "text/plain": [
       "1"
      ]
     },
     "execution_count": 40,
     "metadata": {},
     "output_type": "execute_result"
    }
   ],
   "source": [
    "min(1,2,3,4,5,6,7)"
   ]
  },
  {
   "cell_type": "code",
   "execution_count": 41,
   "id": "d445f975",
   "metadata": {},
   "outputs": [
    {
     "data": {
      "text/plain": [
       "-7"
      ]
     },
     "execution_count": 41,
     "metadata": {},
     "output_type": "execute_result"
    }
   ],
   "source": [
    "min(-1,-2,-3,-4,-5,-6,-7)"
   ]
  },
  {
   "cell_type": "code",
   "execution_count": 42,
   "id": "e9c8f083",
   "metadata": {},
   "outputs": [
    {
     "data": {
      "text/plain": [
       "-1"
      ]
     },
     "execution_count": 42,
     "metadata": {},
     "output_type": "execute_result"
    }
   ],
   "source": [
    "min(-1,0)"
   ]
  },
  {
   "cell_type": "markdown",
   "id": "fead2198",
   "metadata": {},
   "source": [
    "# power-pow()"
   ]
  },
  {
   "cell_type": "code",
   "execution_count": 44,
   "id": "5d0c77d9",
   "metadata": {},
   "outputs": [
    {
     "data": {
      "text/plain": [
       "3200000.0"
      ]
     },
     "execution_count": 44,
     "metadata": {},
     "output_type": "execute_result"
    }
   ],
   "source": [
    "math.pow(20,5)"
   ]
  },
  {
   "cell_type": "code",
   "execution_count": 45,
   "id": "1f73553a",
   "metadata": {},
   "outputs": [
    {
     "data": {
      "text/plain": [
       "-32.0"
      ]
     },
     "execution_count": 45,
     "metadata": {},
     "output_type": "execute_result"
    }
   ],
   "source": [
    "math.pow(-2,5)"
   ]
  },
  {
   "cell_type": "code",
   "execution_count": 46,
   "id": "8eebb0a6",
   "metadata": {},
   "outputs": [
    {
     "data": {
      "text/plain": [
       "3.2e+21"
      ]
     },
     "execution_count": 46,
     "metadata": {},
     "output_type": "execute_result"
    }
   ],
   "source": [
    "math.pow(20000,5)"
   ]
  },
  {
   "cell_type": "code",
   "execution_count": 47,
   "id": "784ace6f",
   "metadata": {},
   "outputs": [
    {
     "data": {
      "text/plain": [
       "-0.03125"
      ]
     },
     "execution_count": 47,
     "metadata": {},
     "output_type": "execute_result"
    }
   ],
   "source": [
    "math.pow(-2,-5)"
   ]
  },
  {
   "cell_type": "markdown",
   "id": "057a0313",
   "metadata": {},
   "source": [
    "# sqrt()"
   ]
  },
  {
   "cell_type": "code",
   "execution_count": 48,
   "id": "fc3d6a74",
   "metadata": {},
   "outputs": [
    {
     "data": {
      "text/plain": [
       "4.0"
      ]
     },
     "execution_count": 48,
     "metadata": {},
     "output_type": "execute_result"
    }
   ],
   "source": [
    "math.sqrt(16)"
   ]
  },
  {
   "cell_type": "code",
   "execution_count": 49,
   "id": "9af4aff0",
   "metadata": {},
   "outputs": [
    {
     "data": {
      "text/plain": [
       "158.11388300841898"
      ]
     },
     "execution_count": 49,
     "metadata": {},
     "output_type": "execute_result"
    }
   ],
   "source": [
    "math.sqrt(25000)"
   ]
  },
  {
   "cell_type": "code",
   "execution_count": 50,
   "id": "ffda3486",
   "metadata": {},
   "outputs": [
    {
     "data": {
      "text/plain": [
       "10.04987562112089"
      ]
     },
     "execution_count": 50,
     "metadata": {},
     "output_type": "execute_result"
    }
   ],
   "source": [
    "math.sqrt(101)"
   ]
  },
  {
   "cell_type": "markdown",
   "id": "fa7f975d",
   "metadata": {},
   "source": [
    "# Trignometric Functions"
   ]
  },
  {
   "cell_type": "code",
   "execution_count": 51,
   "id": "46b08029",
   "metadata": {},
   "outputs": [
    {
     "data": {
      "text/plain": [
       "-0.8011526357338304"
      ]
     },
     "execution_count": 51,
     "metadata": {},
     "output_type": "execute_result"
    }
   ],
   "source": [
    "math.sin(180)"
   ]
  },
  {
   "cell_type": "code",
   "execution_count": 52,
   "id": "cf820e4a",
   "metadata": {},
   "outputs": [
    {
     "data": {
      "text/plain": [
       "0.0"
      ]
     },
     "execution_count": 52,
     "metadata": {},
     "output_type": "execute_result"
    }
   ],
   "source": [
    "math.sin(0)"
   ]
  },
  {
   "cell_type": "code",
   "execution_count": 53,
   "id": "cb0e2efa",
   "metadata": {},
   "outputs": [
    {
     "data": {
      "text/plain": [
       "-0.9997551733586199"
      ]
     },
     "execution_count": 53,
     "metadata": {},
     "output_type": "execute_result"
    }
   ],
   "source": [
    "math.sin(55)"
   ]
  },
  {
   "cell_type": "code",
   "execution_count": 54,
   "id": "bf752224",
   "metadata": {},
   "outputs": [
    {
     "data": {
      "text/plain": [
       "0.022126756261955736"
      ]
     },
     "execution_count": 54,
     "metadata": {},
     "output_type": "execute_result"
    }
   ],
   "source": [
    "math.cos(55)"
   ]
  },
  {
   "cell_type": "code",
   "execution_count": 55,
   "id": "0e533883",
   "metadata": {},
   "outputs": [
    {
     "data": {
      "text/plain": [
       "-0.11038724383904756"
      ]
     },
     "execution_count": 55,
     "metadata": {},
     "output_type": "execute_result"
    }
   ],
   "source": [
    "math.cos(80)"
   ]
  },
  {
   "cell_type": "code",
   "execution_count": 56,
   "id": "3bcc9056",
   "metadata": {},
   "outputs": [
    {
     "data": {
      "text/plain": [
       "1.6197751905438615"
      ]
     },
     "execution_count": 56,
     "metadata": {},
     "output_type": "execute_result"
    }
   ],
   "source": [
    "math.tan(45)"
   ]
  },
  {
   "cell_type": "code",
   "execution_count": 57,
   "id": "5fe00d38",
   "metadata": {},
   "outputs": [
    {
     "data": {
      "text/plain": [
       "-1.995200412208242"
      ]
     },
     "execution_count": 57,
     "metadata": {},
     "output_type": "execute_result"
    }
   ],
   "source": [
    "math.tan(90)"
   ]
  },
  {
   "cell_type": "markdown",
   "id": "9cf54a4d",
   "metadata": {},
   "source": [
    "# hypot()"
   ]
  },
  {
   "cell_type": "code",
   "execution_count": 58,
   "id": "bb9dcf84",
   "metadata": {},
   "outputs": [
    {
     "data": {
      "text/plain": [
       "30.479501308256342"
      ]
     },
     "execution_count": 58,
     "metadata": {},
     "output_type": "execute_result"
    }
   ],
   "source": [
    "math.hypot(23,20)"
   ]
  },
  {
   "cell_type": "markdown",
   "id": "d45120ab",
   "metadata": {},
   "source": [
    "# modf()"
   ]
  },
  {
   "cell_type": "code",
   "execution_count": 60,
   "id": "e9912abe",
   "metadata": {},
   "outputs": [
    {
     "data": {
      "text/plain": [
       "(0.0, 20.0)"
      ]
     },
     "execution_count": 60,
     "metadata": {},
     "output_type": "execute_result"
    }
   ],
   "source": [
    "math.modf(20) # it uses to seperate the fractions "
   ]
  },
  {
   "cell_type": "code",
   "execution_count": 61,
   "id": "e0659393",
   "metadata": {},
   "outputs": [
    {
     "data": {
      "text/plain": [
       "(0.0, 55.0)"
      ]
     },
     "execution_count": 61,
     "metadata": {},
     "output_type": "execute_result"
    }
   ],
   "source": [
    "math.modf(55)"
   ]
  },
  {
   "cell_type": "code",
   "execution_count": 62,
   "id": "91e715a2",
   "metadata": {},
   "outputs": [
    {
     "data": {
      "text/plain": [
       "(0.14000000000000012, 3.0)"
      ]
     },
     "execution_count": 62,
     "metadata": {},
     "output_type": "execute_result"
    }
   ],
   "source": [
    "math.modf(3.14) #In this example, math.modf() separates 3.14 into 0.14 (fractional part) and 3.0 (integer part)."
   ]
  },
  {
   "cell_type": "code",
   "execution_count": 63,
   "id": "575023fa",
   "metadata": {},
   "outputs": [
    {
     "name": "stdout",
     "output_type": "stream",
     "text": [
      "Fractional part: 0.14000000000000012\n",
      "Integer part: 3.0\n"
     ]
    }
   ],
   "source": [
    "x = 3.14\n",
    "fractional_part, integer_part = math.modf(x)\n",
    "\n",
    "print(\"Fractional part:\", fractional_part)\n",
    "print(\"Integer part:\", integer_part)"
   ]
  },
  {
   "cell_type": "code",
   "execution_count": 65,
   "id": "5dc8acc5",
   "metadata": {},
   "outputs": [
    {
     "name": "stdout",
     "output_type": "stream",
     "text": [
      "1 is not a prime number\n",
      "2 is a prime number\n",
      "3 is a prime number\n",
      "4 is not a prime number\n",
      "5 is a prime number\n",
      "6 is not a prime number\n"
     ]
    }
   ],
   "source": [
    "from sympy import isprime\n",
    "\n",
    "numbers = [1, 2, 3, 4, 5, 6]\n",
    "\n",
    "for num in numbers:\n",
    "    if isprime(num):\n",
    "        print(num, \"is a prime number\")\n",
    "    else:\n",
    "        print(num, \"is not a prime number\")"
   ]
  },
  {
   "cell_type": "code",
   "execution_count": 67,
   "id": "d69fcf44",
   "metadata": {},
   "outputs": [
    {
     "name": "stdout",
     "output_type": "stream",
     "text": [
      "2  number is prime\n",
      "3  number is prime\n",
      "4  number is not prime\n",
      "5  number is prime\n",
      "6  number is not prime\n",
      "7  number is prime\n",
      "8  number is not prime\n",
      "77  number is not prime\n",
      "66  number is not prime\n",
      "55  number is not prime\n",
      "22  number is not prime\n",
      "11  number is prime\n",
      "33  number is not prime\n",
      "44  number is not prime\n",
      "88  number is not prime\n",
      "99  number is not prime\n",
      "0  number is not prime\n",
      "1000  number is not prime\n"
     ]
    }
   ],
   "source": [
    "from sympy import isprime\n",
    "number= [2,3,4,5,6,7,8,77,66,55,22,11,33,44,88,99,0,1000]\n",
    "for i in number:\n",
    "    if isprime(i):\n",
    "        print(i,\" number is prime\")\n",
    "    else:\n",
    "        print(i,\" number is not prime\")"
   ]
  },
  {
   "cell_type": "markdown",
   "id": "0226d6c2",
   "metadata": {},
   "source": [
    "# End"
   ]
  }
 ],
 "metadata": {
  "kernelspec": {
   "display_name": "Python 3 (ipykernel)",
   "language": "python",
   "name": "python3"
  },
  "language_info": {
   "codemirror_mode": {
    "name": "ipython",
    "version": 3
   },
   "file_extension": ".py",
   "mimetype": "text/x-python",
   "name": "python",
   "nbconvert_exporter": "python",
   "pygments_lexer": "ipython3",
   "version": "3.9.13"
  }
 },
 "nbformat": 4,
 "nbformat_minor": 5
}
