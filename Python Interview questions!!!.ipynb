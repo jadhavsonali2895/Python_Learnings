{
 "cells": [
  {
   "cell_type": "code",
   "execution_count": 1,
   "id": "ae494e17",
   "metadata": {},
   "outputs": [
    {
     "name": "stdout",
     "output_type": "stream",
     "text": [
      "Enter first stringnaina\n",
      "Enter second stringsonal\n",
      "{'i', 'a', 'n'}\n",
      "{'s', 'l', 'o', 'a', 'n'}\n",
      "The common letter is   {'a', 'n'}\n"
     ]
    }
   ],
   "source": [
    "#Find out common letters between two strings Using Python\n",
    "def common_letters ():\n",
    "    str1 = input(\"Enter first string\")\n",
    "    str2 = input(\"Enter second string\")\n",
    "    s1 = set(str1)\n",
    "    s2 = set(str2)\n",
    "    print(s1)\n",
    "    print(s2)\n",
    "    lst = s1&s2\n",
    "    print(\"The common letter is  \", lst)\n",
    "common_letters()\n",
    "    "
   ]
  },
  {
   "cell_type": "code",
   "execution_count": 6,
   "id": "60be8b6d",
   "metadata": {},
   "outputs": [
    {
     "name": "stdout",
     "output_type": "stream",
     "text": [
      "Enter your strings here ..   meena loves mango and banana and pears. sheena loves only mango, and ankita loves mango and banana.\n",
      "{'meena': 1, 'loves': 3, 'mango': 2, 'and': 4, 'banana': 1, 'pears.': 1, 'sheena': 1, 'only': 1, 'mango,': 1, 'ankita': 1, 'banana.': 1}\n"
     ]
    }
   ],
   "source": [
    "def frequent_words():\n",
    "    str1 = input(\"Enter your strings here ..   \")\n",
    "    li = str1.split()\n",
    "    d = {}\n",
    "    for i in li:\n",
    "        if i not in d.keys():\n",
    "            d[i] = 0\n",
    "        d[i] = d[i] + 1\n",
    "    print(d)\n",
    "\n",
    "frequent_words()\n",
    "\n",
    "   \n",
    "    "
   ]
  },
  {
   "cell_type": "code",
   "execution_count": null,
   "id": "7b6456db",
   "metadata": {},
   "outputs": [],
   "source": []
  }
 ],
 "metadata": {
  "kernelspec": {
   "display_name": "Python 3 (ipykernel)",
   "language": "python",
   "name": "python3"
  },
  "language_info": {
   "codemirror_mode": {
    "name": "ipython",
    "version": 3
   },
   "file_extension": ".py",
   "mimetype": "text/x-python",
   "name": "python",
   "nbconvert_exporter": "python",
   "pygments_lexer": "ipython3",
   "version": "3.11.7"
  }
 },
 "nbformat": 4,
 "nbformat_minor": 5
}
