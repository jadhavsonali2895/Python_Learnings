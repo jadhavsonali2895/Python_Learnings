{
 "cells": [
  {
   "cell_type": "raw",
   "id": "8d764681",
   "metadata": {},
   "source": [
    "In Part we are going to learn about\n",
    "\n",
    "StringIO\n",
    "Pandas read_csv"
   ]
  },
  {
   "cell_type": "code",
   "execution_count": 2,
   "id": "237ad674",
   "metadata": {},
   "outputs": [],
   "source": [
    "from io import StringIO\n",
    "import pandas as pd"
   ]
  },
  {
   "cell_type": "code",
   "execution_count": null,
   "id": "6a4bf31e",
   "metadata": {},
   "outputs": [],
   "source": []
  }
 ],
 "metadata": {
  "kernelspec": {
   "display_name": "Python 3 (ipykernel)",
   "language": "python",
   "name": "python3"
  },
  "language_info": {
   "codemirror_mode": {
    "name": "ipython",
    "version": 3
   },
   "file_extension": ".py",
   "mimetype": "text/x-python",
   "name": "python",
   "nbconvert_exporter": "python",
   "pygments_lexer": "ipython3",
   "version": "3.9.13"
  }
 },
 "nbformat": 4,
 "nbformat_minor": 5
}
