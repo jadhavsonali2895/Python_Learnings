{
 "cells": [
  {
   "cell_type": "code",
   "execution_count": 1,
   "id": "7011dcb8",
   "metadata": {},
   "outputs": [],
   "source": [
    "import numpy as np\n",
    "import matplotlib.pyplot as plt\n",
    "%matplotlib inline "
   ]
  },
  {
   "cell_type": "code",
   "execution_count": 2,
   "id": "acd94ac4",
   "metadata": {},
   "outputs": [],
   "source": [
    "## define my data set\n",
    "dataset = [11,10,12,14,12,15,14,13,15,102,12,14,17,19,107,10,13,12,14,12,108,12,11,14,13,15,10,15,12,10,14,13,15,10]"
   ]
  },
  {
   "cell_type": "code",
   "execution_count": 3,
   "id": "93e0172d",
   "metadata": {},
   "outputs": [
    {
     "data": {
      "text/plain": [
       "(array([31.,  0.,  0.,  0.,  0.,  0.,  0.,  0.,  0.,  3.]),\n",
       " array([ 10. ,  19.8,  29.6,  39.4,  49.2,  59. ,  68.8,  78.6,  88.4,\n",
       "         98.2, 108. ]),\n",
       " <BarContainer object of 10 artists>)"
      ]
     },
     "execution_count": 3,
     "metadata": {},
     "output_type": "execute_result"
    },
    {
     "data": {
      "image/png": "[encoded data removed]",
      "text/plain": [
       "<Figure size 640x480 with 1 Axes>"
      ]
     },
     "metadata": {},
     "output_type": "display_data"
    }
   ],
   "source": [
    "plt.hist(dataset)"
   ]
  },
  {
   "cell_type": "code",
   "execution_count": 4,
   "id": "158190a0",
   "metadata": {},
   "outputs": [
    {
     "data": {
      "text/plain": [
       "[102, 107, 108]"
      ]
     },
     "execution_count": 4,
     "metadata": {},
     "output_type": "execute_result"
    }
   ],
   "source": [
    "import numpy as np\n",
    "\n",
    "## define my data set\n",
    "dataset = [11,10,12,14,12,15,14,13,15,102,12,14,17,19,107,10,13,12,14,12,108,12,11,14,13,15,10,15,12,10,14,13,15,10]# z-score\n",
    "outliers = []\n",
    "\n",
    "def detect_outliers(data):\n",
    "    threshold = 3 ## 3rd standard deviation\n",
    "    mean = np.mean(data)\n",
    "    std = np.std(data)\n",
    "    \n",
    "    for i in data:\n",
    "        z_score = (i - mean) / std\n",
    "        if np.abs(z_score) > threshold: \n",
    "            outliers.append(i)\n",
    "    return outliers\n",
    "\n",
    "detect_outliers(dataset)\n",
    "\n",
    "            "
   ]
  },
  {
   "cell_type": "code",
   "execution_count": 5,
   "id": "3627804e",
   "metadata": {},
   "outputs": [],
   "source": [
    "# IQR technique:---\n",
    "\n",
    "#1. Sort the dataset\n",
    "#2.calculate Q1 (25%) and Q3 (75%)\n",
    "#3.calculate IQR = Q3-Q1\n",
    "#4find the lowe fence(q1-1.5(iqr))\n",
    "#5find the higher fence(q3+1.5(iqr))\n",
    "\n"
   ]
  },
  {
   "cell_type": "code",
   "execution_count": 6,
   "id": "0f06679d",
   "metadata": {},
   "outputs": [
    {
     "data": {
      "text/plain": [
       "[11,\n",
       " 10,\n",
       " 12,\n",
       " 14,\n",
       " 12,\n",
       " 15,\n",
       " 14,\n",
       " 13,\n",
       " 15,\n",
       " 102,\n",
       " 12,\n",
       " 14,\n",
       " 17,\n",
       " 19,\n",
       " 107,\n",
       " 10,\n",
       " 13,\n",
       " 12,\n",
       " 14,\n",
       " 12,\n",
       " 108,\n",
       " 12,\n",
       " 11,\n",
       " 14,\n",
       " 13,\n",
       " 15,\n",
       " 10,\n",
       " 15,\n",
       " 12,\n",
       " 10,\n",
       " 14,\n",
       " 13,\n",
       " 15,\n",
       " 10]"
      ]
     },
     "execution_count": 6,
     "metadata": {},
     "output_type": "execute_result"
    }
   ],
   "source": [
    "dataset"
   ]
  },
  {
   "cell_type": "code",
   "execution_count": 7,
   "id": "65405870",
   "metadata": {},
   "outputs": [
    {
     "data": {
      "text/plain": [
       "[10,\n",
       " 10,\n",
       " 10,\n",
       " 10,\n",
       " 10,\n",
       " 11,\n",
       " 11,\n",
       " 12,\n",
       " 12,\n",
       " 12,\n",
       " 12,\n",
       " 12,\n",
       " 12,\n",
       " 12,\n",
       " 13,\n",
       " 13,\n",
       " 13,\n",
       " 13,\n",
       " 14,\n",
       " 14,\n",
       " 14,\n",
       " 14,\n",
       " 14,\n",
       " 14,\n",
       " 15,\n",
       " 15,\n",
       " 15,\n",
       " 15,\n",
       " 15,\n",
       " 17,\n",
       " 19,\n",
       " 102,\n",
       " 107,\n",
       " 108]"
      ]
     },
     "execution_count": 7,
     "metadata": {},
     "output_type": "execute_result"
    }
   ],
   "source": [
    "dataset=sorted(dataset)\n",
    "dataset"
   ]
  },
  {
   "cell_type": "code",
   "execution_count": 8,
   "id": "52953936",
   "metadata": {},
   "outputs": [
    {
     "name": "stdout",
     "output_type": "stream",
     "text": [
      "12.0 15.0\n"
     ]
    }
   ],
   "source": [
    "q1,q3 = np.percentile(dataset,[25,75])\n",
    "print(q1,q3)"
   ]
  },
  {
   "cell_type": "code",
   "execution_count": 9,
   "id": "34607e83",
   "metadata": {},
   "outputs": [
    {
     "name": "stdout",
     "output_type": "stream",
     "text": [
      "3.0\n"
     ]
    }
   ],
   "source": [
    "iqr = q3-q1\n",
    "print(iqr)"
   ]
  },
  {
   "cell_type": "code",
   "execution_count": 10,
   "id": "43dd3f7e",
   "metadata": {},
   "outputs": [
    {
     "name": "stdout",
     "output_type": "stream",
     "text": [
      "lower_fence  7.5\n",
      "upper_fence  19.5\n"
     ]
    }
   ],
   "source": [
    "lower_fence = q1-(1.5*iqr)\n",
    "upper_fence = q3+(1.5*iqr)\n",
    "\n",
    "print(\"lower_fence \",lower_fence)\n",
    "print(\"upper_fence \",upper_fence)\n",
    "\n"
   ]
  },
  {
   "cell_type": "code",
   "execution_count": 12,
   "id": "6d57f64a",
   "metadata": {},
   "outputs": [
    {
     "name": "stdout",
     "output_type": "stream",
     "text": [
      "outliers=  [102, 107, 108]\n"
     ]
    }
   ],
   "source": [
    "outliers = []\n",
    "for i in dataset :\n",
    "    if i < lower_fence or i > upper_fence:\n",
    "        outliers.append(i)\n",
    "print(\"outliers= \", outliers)\n",
    "    "
   ]
  },
  {
   "cell_type": "code",
   "execution_count": 13,
   "id": "1f2bc181",
   "metadata": {},
   "outputs": [],
   "source": [
    "import seaborn as sns\n"
   ]
  },
  {
   "cell_type": "code",
   "execution_count": 14,
   "id": "ade54372",
   "metadata": {},
   "outputs": [
    {
     "name": "stderr",
     "output_type": "stream",
     "text": [
      "C:\\Users\\Admin\\anaconda3\\lib\\site-packages\\seaborn\\_decorators.py:36: FutureWarning: Pass the following variable as a keyword arg: x. From version 0.12, the only valid positional argument will be `data`, and passing other arguments without an explicit keyword will result in an error or misinterpretation.\n",
      "  warnings.warn(\n"
     ]
    },
    {
     "data": {
      "text/plain": [
       "<AxesSubplot:>"
      ]
     },
     "execution_count": 14,
     "metadata": {},
     "output_type": "execute_result"
    },
    {
     "data": {
      "image/png": "[encoded data removed]",
      "text/plain": [
       "<Figure size 640x480 with 1 Axes>"
      ]
     },
     "metadata": {},
     "output_type": "display_data"
    }
   ],
   "source": [
    "sns.boxplot(dataset)"
   ]
  },
  {
   "cell_type": "code",
   "execution_count": 15,
   "id": "04175da2",
   "metadata": {},
   "outputs": [],
   "source": [
    "# Define a new dataset\n",
    "new_dataset = [25, 30, 32, 35, 40, 42, 45, 50, 55, 60, 65, 70, 75, 80, 85, 90, 95, 100, 105, 110, 115, 120, 125, 130, 135, 140, 145, 150]\n"
   ]
  },
  {
   "cell_type": "code",
   "execution_count": 17,
   "id": "8670dfa5",
   "metadata": {},
   "outputs": [
    {
     "data": {
      "text/plain": [
       "[25,\n",
       " 30,\n",
       " 32,\n",
       " 35,\n",
       " 40,\n",
       " 42,\n",
       " 45,\n",
       " 50,\n",
       " 55,\n",
       " 60,\n",
       " 65,\n",
       " 70,\n",
       " 75,\n",
       " 80,\n",
       " 85,\n",
       " 90,\n",
       " 95,\n",
       " 100,\n",
       " 105,\n",
       " 110,\n",
       " 115,\n",
       " 120,\n",
       " 125,\n",
       " 130,\n",
       " 135,\n",
       " 140,\n",
       " 145,\n",
       " 150]"
      ]
     },
     "execution_count": 17,
     "metadata": {},
     "output_type": "execute_result"
    }
   ],
   "source": [
    "new_dataset=sorted(new_dataset)\n",
    "new_dataset"
   ]
  },
  {
   "cell_type": "code",
   "execution_count": 31,
   "id": "b8130942",
   "metadata": {},
   "outputs": [
    {
     "name": "stdout",
     "output_type": "stream",
     "text": [
      "Q1: 48.75\n",
      "Q3: 116.25\n"
     ]
    }
   ],
   "source": [
    "# calculate Q1&Q3\n",
    "q1,q3 = np.percentile(new_dataset,[25,75])\n",
    "print(\"Q1:\", q1)\n",
    "print(\"Q3:\", q3)\n",
    "\n",
    "\n",
    "\n"
   ]
  },
  {
   "cell_type": "code",
   "execution_count": 32,
   "id": "adb1e57f",
   "metadata": {},
   "outputs": [
    {
     "name": "stdout",
     "output_type": "stream",
     "text": [
      "IQR: 67.5\n"
     ]
    }
   ],
   "source": [
    "# calculate iqr\n",
    "iqr = q3-q1\n",
    "print(\"IQR:\", iqr)"
   ]
  },
  {
   "cell_type": "code",
   "execution_count": 34,
   "id": "2cc0850c",
   "metadata": {},
   "outputs": [
    {
     "name": "stdout",
     "output_type": "stream",
     "text": [
      "Lower Fence: -52.5\n",
      "Upper Fence: 217.5\n"
     ]
    }
   ],
   "source": [
    "lower_fence1 = q1 - (1.5*iqr)\n",
    "\n",
    "upper_fence1 = q3 + (1.5*iqr)\n",
    "\n",
    "print(\"Lower Fence:\", lower_fence1)\n",
    "print(\"Upper Fence:\", upper_fence1)\n"
   ]
  },
  {
   "cell_type": "code",
   "execution_count": 35,
   "id": "eef4da0b",
   "metadata": {},
   "outputs": [
    {
     "name": "stdout",
     "output_type": "stream",
     "text": [
      "Outliers: []\n"
     ]
    }
   ],
   "source": [
    "outliers1 = []\n",
    "for i in new_dataset:\n",
    "    if i < lower_fence1 or i > upper_fence1:\n",
    "        outliers1.append(i)\n",
    "\n",
    "print(\"Outliers:\", outliers1)"
   ]
  },
  {
   "cell_type": "code",
   "execution_count": 36,
   "id": "abc6d6cd",
   "metadata": {},
   "outputs": [
    {
     "name": "stderr",
     "output_type": "stream",
     "text": [
      "C:\\Users\\Admin\\anaconda3\\lib\\site-packages\\seaborn\\_decorators.py:36: FutureWarning: Pass the following variable as a keyword arg: x. From version 0.12, the only valid positional argument will be `data`, and passing other arguments without an explicit keyword will result in an error or misinterpretation.\n",
      "  warnings.warn(\n"
     ]
    },
    {
     "data": {
      "text/plain": [
       "<AxesSubplot:>"
      ]
     },
     "execution_count": 36,
     "metadata": {},
     "output_type": "execute_result"
    },
    {
     "data": {
      "image/png": "[encoded data removed]",
      "text/plain": [
       "<Figure size 640x480 with 1 Axes>"
      ]
     },
     "metadata": {},
     "output_type": "display_data"
    }
   ],
   "source": [
    "sns.boxplot(new_dataset)"
   ]
  },
  {
   "cell_type": "code",
   "execution_count": null,
   "id": "278fb7ee",
   "metadata": {},
   "outputs": [],
   "source": []
  }
 ],
 "metadata": {
  "kernelspec": {
   "display_name": "Python 3 (ipykernel)",
   "language": "python",
   "name": "python3"
  },
  "language_info": {
   "codemirror_mode": {
    "name": "ipython",
    "version": 3
   },
   "file_extension": ".py",
   "mimetype": "text/x-python",
   "name": "python",
   "nbconvert_exporter": "python",
   "pygments_lexer": "ipython3",
   "version": "3.9.13"
  }
 },
 "nbformat": 4,
 "nbformat_minor": 5
}
